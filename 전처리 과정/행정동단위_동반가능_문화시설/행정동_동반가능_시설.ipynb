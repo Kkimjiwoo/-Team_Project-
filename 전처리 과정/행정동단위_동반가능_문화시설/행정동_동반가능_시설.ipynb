{
 "cells": [
  {
   "cell_type": "code",
   "execution_count": 87,
   "metadata": {},
   "outputs": [],
   "source": [
    "import numpy as np\n",
    "import pandas as pd"
   ]
  },
  {
   "cell_type": "code",
   "execution_count": 88,
   "metadata": {},
   "outputs": [],
   "source": [
    "file_path = r'C:\\Users\\82108\\Desktop\\jw\\프로젝트\\반려동물등록현황전처리전\\행정동단위_동반가능_문화시설\\한국문화정보원_전국 반려동물 동반 가능 문화시설 위치 데이터_20221130.CSV'\n",
    "\n",
    "df_raw = pd.read_csv(file_path, encoding='cp949')"
   ]
  },
  {
   "cell_type": "code",
   "execution_count": 89,
   "metadata": {},
   "outputs": [
    {
     "data": {
      "text/html": [
       "<div>\n",
       "<style scoped>\n",
       "    .dataframe tbody tr th:only-of-type {\n",
       "        vertical-align: middle;\n",
       "    }\n",
       "\n",
       "    .dataframe tbody tr th {\n",
       "        vertical-align: top;\n",
       "    }\n",
       "\n",
       "    .dataframe thead th {\n",
       "        text-align: right;\n",
       "    }\n",
       "</style>\n",
       "<table border=\"1\" class=\"dataframe\">\n",
       "  <thead>\n",
       "    <tr style=\"text-align: right;\">\n",
       "      <th></th>\n",
       "      <th>시설명</th>\n",
       "      <th>카테고리1</th>\n",
       "      <th>카테고리2</th>\n",
       "      <th>카테고리3</th>\n",
       "      <th>시도 명칭</th>\n",
       "      <th>시군구 명칭</th>\n",
       "      <th>법정읍면동명칭</th>\n",
       "      <th>리 명칭</th>\n",
       "      <th>번지</th>\n",
       "      <th>도로명 이름</th>\n",
       "      <th>...</th>\n",
       "      <th>입장(이용료)가격 정보</th>\n",
       "      <th>반려동물 동반 가능정보</th>\n",
       "      <th>반려동물 전용 정보</th>\n",
       "      <th>입장 가능 동물 크기</th>\n",
       "      <th>반려동물 제한사항</th>\n",
       "      <th>장소(실내) 여부</th>\n",
       "      <th>장소(실외)여부</th>\n",
       "      <th>기본 정보_장소설명</th>\n",
       "      <th>애견 동반 추가 요금</th>\n",
       "      <th>최종작성일</th>\n",
       "    </tr>\n",
       "  </thead>\n",
       "  <tbody>\n",
       "    <tr>\n",
       "      <th>0</th>\n",
       "      <td>1004 약국</td>\n",
       "      <td>반려동물업</td>\n",
       "      <td>반려의료</td>\n",
       "      <td>동물약국</td>\n",
       "      <td>경기도</td>\n",
       "      <td>고양시 덕양구</td>\n",
       "      <td>동산동</td>\n",
       "      <td>NaN</td>\n",
       "      <td>352-1 번지</td>\n",
       "      <td>동세로</td>\n",
       "      <td>...</td>\n",
       "      <td>변동</td>\n",
       "      <td>동반가능</td>\n",
       "      <td>해당없음</td>\n",
       "      <td>모두 가능</td>\n",
       "      <td>제한사항 없음</td>\n",
       "      <td>실내 동반가능</td>\n",
       "      <td>실외 동반불가</td>\n",
       "      <td>동물약국</td>\n",
       "      <td>없음</td>\n",
       "      <td>2022-11-30</td>\n",
       "    </tr>\n",
       "    <tr>\n",
       "      <th>1</th>\n",
       "      <td>1004섬수석미술관</td>\n",
       "      <td>반려동물업</td>\n",
       "      <td>반려동반여행</td>\n",
       "      <td>미술관</td>\n",
       "      <td>전라남도</td>\n",
       "      <td>신안군</td>\n",
       "      <td>자은면</td>\n",
       "      <td>백산리</td>\n",
       "      <td>633-54 번지</td>\n",
       "      <td>자은서부2길</td>\n",
       "      <td>...</td>\n",
       "      <td>없음</td>\n",
       "      <td>동반불가</td>\n",
       "      <td>해당없음</td>\n",
       "      <td>해당없음</td>\n",
       "      <td>해당없음</td>\n",
       "      <td>실내 동반가능</td>\n",
       "      <td>실외 동반가능</td>\n",
       "      <td>미술관</td>\n",
       "      <td>없음</td>\n",
       "      <td>2022-11-30</td>\n",
       "    </tr>\n",
       "    <tr>\n",
       "      <th>2</th>\n",
       "      <td>100세건강약국</td>\n",
       "      <td>반려동물업</td>\n",
       "      <td>반려의료</td>\n",
       "      <td>동물약국</td>\n",
       "      <td>경기도</td>\n",
       "      <td>안양시 만안구</td>\n",
       "      <td>안양동</td>\n",
       "      <td>NaN</td>\n",
       "      <td>856-4 번지</td>\n",
       "      <td>안양로</td>\n",
       "      <td>...</td>\n",
       "      <td>변동</td>\n",
       "      <td>동반가능</td>\n",
       "      <td>해당없음</td>\n",
       "      <td>모두 가능</td>\n",
       "      <td>제한사항 없음</td>\n",
       "      <td>실내 동반가능</td>\n",
       "      <td>실외 동반불가</td>\n",
       "      <td>동물약국</td>\n",
       "      <td>없음</td>\n",
       "      <td>2022-11-30</td>\n",
       "    </tr>\n",
       "  </tbody>\n",
       "</table>\n",
       "<p>3 rows × 31 columns</p>\n",
       "</div>"
      ],
      "text/plain": [
       "          시설명  카테고리1   카테고리2 카테고리3 시도 명칭   시군구 명칭 법정읍면동명칭 리 명칭         번지  \\\n",
       "0     1004 약국  반려동물업    반려의료  동물약국   경기도  고양시 덕양구     동산동  NaN   352-1 번지   \n",
       "1  1004섬수석미술관  반려동물업  반려동반여행   미술관  전라남도      신안군     자은면  백산리  633-54 번지   \n",
       "2    100세건강약국  반려동물업    반려의료  동물약국   경기도  안양시 만안구     안양동  NaN   856-4 번지   \n",
       "\n",
       "   도로명 이름  ... 입장(이용료)가격 정보  반려동물 동반 가능정보  반려동물 전용 정보  입장 가능 동물 크기 반려동물 제한사항  \\\n",
       "0     동세로  ...           변동          동반가능        해당없음        모두 가능   제한사항 없음   \n",
       "1  자은서부2길  ...           없음          동반불가        해당없음         해당없음      해당없음   \n",
       "2     안양로  ...           변동          동반가능        해당없음        모두 가능   제한사항 없음   \n",
       "\n",
       "  장소(실내) 여부 장소(실외)여부 기본 정보_장소설명 애견 동반 추가 요금       최종작성일  \n",
       "0   실내 동반가능  실외 동반불가       동물약국          없음  2022-11-30  \n",
       "1   실내 동반가능  실외 동반가능        미술관          없음  2022-11-30  \n",
       "2   실내 동반가능  실외 동반불가       동물약국          없음  2022-11-30  \n",
       "\n",
       "[3 rows x 31 columns]"
      ]
     },
     "execution_count": 89,
     "metadata": {},
     "output_type": "execute_result"
    }
   ],
   "source": [
    "# 원본데이터 복사\n",
    "facility = df_raw.copy()\n",
    "facility.head(3)"
   ]
  },
  {
   "cell_type": "code",
   "execution_count": 90,
   "metadata": {},
   "outputs": [
    {
     "data": {
      "text/plain": [
       "Index(['시설명', '카테고리1', '카테고리2', '카테고리3', '시도 명칭', '시군구 명칭', '법정읍면동명칭', '리 명칭',\n",
       "       '번지', '도로명 이름', '건물 번호', '위도', '경도', '우편번호', '도로명주소', '지번주소', '전화번호',\n",
       "       '홈페이지', '휴무일', '운영시간', '주차 가능여부', '입장(이용료)가격 정보', '반려동물 동반 가능정보',\n",
       "       '반려동물 전용 정보', '입장 가능 동물 크기', '반려동물 제한사항', '장소(실내) 여부', '장소(실외)여부',\n",
       "       '기본 정보_장소설명', '애견 동반 추가 요금', '최종작성일'],\n",
       "      dtype='object')"
      ]
     },
     "execution_count": 90,
     "metadata": {},
     "output_type": "execute_result"
    }
   ],
   "source": [
    "# 열 명칭 확인 \n",
    "facility.columns"
   ]
  },
  {
   "cell_type": "code",
   "execution_count": 91,
   "metadata": {},
   "outputs": [
    {
     "data": {
      "text/html": [
       "<div>\n",
       "<style scoped>\n",
       "    .dataframe tbody tr th:only-of-type {\n",
       "        vertical-align: middle;\n",
       "    }\n",
       "\n",
       "    .dataframe tbody tr th {\n",
       "        vertical-align: top;\n",
       "    }\n",
       "\n",
       "    .dataframe thead th {\n",
       "        text-align: right;\n",
       "    }\n",
       "</style>\n",
       "<table border=\"1\" class=\"dataframe\">\n",
       "  <thead>\n",
       "    <tr style=\"text-align: right;\">\n",
       "      <th></th>\n",
       "      <th>구</th>\n",
       "      <th>Location</th>\n",
       "      <th>name</th>\n",
       "      <th>category1</th>\n",
       "      <th>category2</th>\n",
       "    </tr>\n",
       "  </thead>\n",
       "  <tbody>\n",
       "    <tr>\n",
       "      <th>3</th>\n",
       "      <td>영등포구</td>\n",
       "      <td>당산2동</td>\n",
       "      <td>100세약국</td>\n",
       "      <td>반려의료</td>\n",
       "      <td>동물약국</td>\n",
       "    </tr>\n",
       "    <tr>\n",
       "      <th>6</th>\n",
       "      <td>중구</td>\n",
       "      <td>신당동</td>\n",
       "      <td>100코달리 와인바</td>\n",
       "      <td>반려동물식당카페</td>\n",
       "      <td>카페</td>\n",
       "    </tr>\n",
       "    <tr>\n",
       "      <th>15</th>\n",
       "      <td>금천구</td>\n",
       "      <td>시흥동</td>\n",
       "      <td>1층메디컬약국</td>\n",
       "      <td>반려의료</td>\n",
       "      <td>동물약국</td>\n",
       "    </tr>\n",
       "    <tr>\n",
       "      <th>16</th>\n",
       "      <td>성동구</td>\n",
       "      <td>하왕십리동</td>\n",
       "      <td>1층이화약국</td>\n",
       "      <td>반려의료</td>\n",
       "      <td>동물약국</td>\n",
       "    </tr>\n",
       "    <tr>\n",
       "      <th>26</th>\n",
       "      <td>용산구</td>\n",
       "      <td>보광동</td>\n",
       "      <td>21세기동물병원</td>\n",
       "      <td>반려의료</td>\n",
       "      <td>동물병원</td>\n",
       "    </tr>\n",
       "  </tbody>\n",
       "</table>\n",
       "</div>"
      ],
      "text/plain": [
       "       구 Location        name category1 category2\n",
       "3   영등포구     당산2동      100세약국      반려의료      동물약국\n",
       "6     중구      신당동  100코달리 와인바  반려동물식당카페        카페\n",
       "15   금천구      시흥동     1층메디컬약국      반려의료      동물약국\n",
       "16   성동구    하왕십리동      1층이화약국      반려의료      동물약국\n",
       "26   용산구      보광동    21세기동물병원      반려의료      동물병원"
      ]
     },
     "execution_count": 91,
     "metadata": {},
     "output_type": "execute_result"
    }
   ],
   "source": [
    "# 서울특별시를 제외한 다른 \n",
    "facility = facility[facility['시도 명칭'] == '서울특별시']\n",
    "\n",
    "# 필요한 컬럼만 남기기\n",
    "facility = facility[['시군구 명칭','법정읍면동명칭','시설명','카테고리2','카테고리3']]\n",
    "\n",
    "# 컬럼 이름 바꾸기\n",
    "\n",
    "facility.rename(columns={'시군구 명칭':'구',\n",
    "                         '법정읍면동명칭':'Location',\n",
    "                         '시설명':'name',\n",
    "                         '카테고리2':'category1',\n",
    "                         '카테고리3':'category2'},\n",
    "                inplace=True)\n",
    "facility.head()\n"
   ]
  },
  {
   "cell_type": "code",
   "execution_count": 94,
   "metadata": {},
   "outputs": [],
   "source": [
    "# 카테고리 2를 제외한 컬럼\n",
    "facility1 =  facility[['구','Location','name','category1']]"
   ]
  },
  {
   "cell_type": "code",
   "execution_count": 107,
   "metadata": {},
   "outputs": [
    {
     "data": {
      "text/plain": [
       "구    Location  category1\n",
       "강남구  개포동       반려동물 서비스      2\n",
       "               반려동반여행        1\n",
       "               반려의료         13\n",
       "     논현동       반려동물 서비스     26\n",
       "               반려동물식당카페      8\n",
       "                            ..\n",
       "중랑구  신내동       반려동물 서비스      4\n",
       "               반려동물식당카페      1\n",
       "               반려의료         10\n",
       "     중화동       반려동물 서비스      8\n",
       "               반려의료          8\n",
       "Length: 663, dtype: int64"
      ]
     },
     "execution_count": 107,
     "metadata": {},
     "output_type": "execute_result"
    }
   ],
   "source": [
    "# 카테고리로 분류한 동별 동반 가능 시설 \n",
    "동별_동반가능_시설_카테고리 = facility1.groupby(['구','Location','category1']).size()\n",
    "\n",
    "동별_동반가능_시설_카테고리"
   ]
  },
  {
   "cell_type": "code",
   "execution_count": 109,
   "metadata": {},
   "outputs": [],
   "source": [
    "동별_동반가능_시설_카테고리.to_csv('./동별_동반가능시설_카테고리.csv')"
   ]
  },
  {
   "cell_type": "code",
   "execution_count": 111,
   "metadata": {},
   "outputs": [],
   "source": [
    "# 동별 동반 가능 시설_전체(카테고리 구분없이 동별 동반 가능)\n",
    "동별_동반가능_시설_카테고리구분없음 = facility1.groupby(['구','Location']).size()"
   ]
  },
  {
   "cell_type": "code",
   "execution_count": 112,
   "metadata": {},
   "outputs": [],
   "source": [
    "동별_동반가능_시설_카테고리구분없음.to_csv('./동별_동반가능시설_전체.csv')"
   ]
  },
  {
   "cell_type": "code",
   "execution_count": null,
   "metadata": {},
   "outputs": [],
   "source": []
  }
 ],
 "metadata": {
  "kernelspec": {
   "display_name": "base",
   "language": "python",
   "name": "python3"
  },
  "language_info": {
   "codemirror_mode": {
    "name": "ipython",
    "version": 3
   },
   "file_extension": ".py",
   "mimetype": "text/x-python",
   "name": "python",
   "nbconvert_exporter": "python",
   "pygments_lexer": "ipython3",
   "version": "3.11.7"
  }
 },
 "nbformat": 4,
 "nbformat_minor": 2
}
