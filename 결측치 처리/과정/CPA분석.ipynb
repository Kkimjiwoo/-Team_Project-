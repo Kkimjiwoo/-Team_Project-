{
 "cells": [
  {
   "cell_type": "code",
   "execution_count": 1895,
   "metadata": {},
   "outputs": [
    {
     "name": "stdout",
     "output_type": "stream",
     "text": [
      "Index(['Unnamed: 0', 'Gu', 'Dong', 'Hospital_Counts', 'Sales_Counts',\n",
      "       'Consignment_Counts', 'Transit_Counts', 'Production_Counts',\n",
      "       'Import_Counts', 'Population', 'Pet_Owners', 'Total_Registrations'],\n",
      "      dtype='object')\n",
      "(145, 12)\n"
     ]
    }
   ],
   "source": [
    "import pandas as pd\n",
    "import numpy as np\n",
    "\n",
    "data = pd.read_csv('./동별통합데이터.csv')\n",
    "df_raw = pd.DataFrame(data)\n",
    "\n",
    "# 데이터 확인\n",
    "\n",
    "df_raw.head(1)\n",
    "print(df_raw.columns)\n",
    "print(df_raw.shape)"
   ]
  },
  {
   "cell_type": "code",
   "execution_count": 1896,
   "metadata": {},
   "outputs": [
    {
     "data": {
      "text/html": [
       "<div>\n",
       "<style scoped>\n",
       "    .dataframe tbody tr th:only-of-type {\n",
       "        vertical-align: middle;\n",
       "    }\n",
       "\n",
       "    .dataframe tbody tr th {\n",
       "        vertical-align: top;\n",
       "    }\n",
       "\n",
       "    .dataframe thead th {\n",
       "        text-align: right;\n",
       "    }\n",
       "</style>\n",
       "<table border=\"1\" class=\"dataframe\">\n",
       "  <thead>\n",
       "    <tr style=\"text-align: right;\">\n",
       "      <th></th>\n",
       "      <th>Hospital_Counts</th>\n",
       "      <th>Transit_Counts</th>\n",
       "      <th>Population</th>\n",
       "    </tr>\n",
       "  </thead>\n",
       "  <tbody>\n",
       "    <tr>\n",
       "      <th>0</th>\n",
       "      <td>0.085263</td>\n",
       "      <td>-0.719800</td>\n",
       "      <td>0.074613</td>\n",
       "    </tr>\n",
       "    <tr>\n",
       "      <th>1</th>\n",
       "      <td>-0.189473</td>\n",
       "      <td>-0.719800</td>\n",
       "      <td>-0.409129</td>\n",
       "    </tr>\n",
       "    <tr>\n",
       "      <th>2</th>\n",
       "      <td>-0.464210</td>\n",
       "      <td>-0.083392</td>\n",
       "      <td>-0.230630</td>\n",
       "    </tr>\n",
       "    <tr>\n",
       "      <th>3</th>\n",
       "      <td>2.557892</td>\n",
       "      <td>-0.401596</td>\n",
       "      <td>1.170657</td>\n",
       "    </tr>\n",
       "    <tr>\n",
       "      <th>4</th>\n",
       "      <td>-0.464210</td>\n",
       "      <td>-0.401596</td>\n",
       "      <td>-0.441903</td>\n",
       "    </tr>\n",
       "  </tbody>\n",
       "</table>\n",
       "</div>"
      ],
      "text/plain": [
       "   Hospital_Counts  Transit_Counts  Population\n",
       "0         0.085263       -0.719800    0.074613\n",
       "1        -0.189473       -0.719800   -0.409129\n",
       "2        -0.464210       -0.083392   -0.230630\n",
       "3         2.557892       -0.401596    1.170657\n",
       "4        -0.464210       -0.401596   -0.441903"
      ]
     },
     "execution_count": 1896,
     "metadata": {},
     "output_type": "execute_result"
    }
   ],
   "source": [
    "# 표준화 패키지 라이브러리 \n",
    "from sklearn.preprocessing import StandardScaler  \n",
    "\n",
    "# 독립변인들의 value값만 추출       \n",
    "x = data[['Hospital_Counts', 'Transit_Counts', 'Population']].values\n",
    "\n",
    "# 종속변인 추출\n",
    "y = data['Total_Registrations'].values # 종속변인 추출\n",
    "\n",
    "x = StandardScaler().fit_transform(x) # x객체에 x를 표준화한 데이터를 저장\n",
    "\n",
    "features = ['Hospital_Counts', 'Transit_Counts', 'Population']\n",
    "\n",
    "pd.DataFrame(x, columns=features).head()\n"
   ]
  },
  {
   "cell_type": "code",
   "execution_count": 1898,
   "metadata": {},
   "outputs": [],
   "source": [
    "from sklearn.decomposition import PCA\n",
    "\n",
    "\n",
    "# 주성분을 1개로 선택\n",
    "pca1 = PCA(n_components=1)\n",
    "printcipalComponents1 = pca1.fit_transform(x)\n",
    "\n",
    "# 주성분으로 이루어진 데이터 프레임 구성\n",
    "principalDf1 = pd.DataFrame(data=printcipalComponents1, columns = ['principal component1'])\n",
    "\n",
    "\n",
    "\n",
    "# 주성분을 2개로 선택\n",
    "pca2 = PCA(n_components=2)\n",
    "printcipalComponents2 = pca2.fit_transform(x)\n",
    "\n",
    "# 주성분으로 이루어진 데이터 프레임 구성\n",
    "principalDf2 = pd.DataFrame(data=printcipalComponents2, columns = ['principal component1', 'principal component2'])\n",
    "\n",
    "\n",
    "\n",
    "# 주성분을 3개로 선택\n",
    "pca3 = PCA(n_components=3) # 주성분을 몇개로 할지 결정\n",
    "printcipalComponents3 = pca3.fit_transform(x)\n",
    "\n",
    "# 주성분으로 이루어진 데이터 프레임 구성\n",
    "principalDf3 = pd.DataFrame(data=printcipalComponents3, columns = ['principal component1', 'principal component2',\n",
    "                                                                 'principal component3',])"
   ]
  },
  {
   "cell_type": "code",
   "execution_count": 1899,
   "metadata": {},
   "outputs": [
    {
     "name": "stdout",
     "output_type": "stream",
     "text": [
      "1개의 주성분 분산 설명량 [0.81991857]\n",
      "2개의 주성분 분산 설명량 [0.81991857 0.12338166]\n",
      "3개의 주성분 분산 설명량 [0.81991857 0.12338166 0.05669977]\n"
     ]
    }
   ],
   "source": [
    "print('1개의 주성분 분산 설명량',pca1.explained_variance_ratio_)\n",
    "print('2개의 주성분 분산 설명량',pca2.explained_variance_ratio_)\n",
    "print('3개의 주성분 분산 설명량',pca3.explained_variance_ratio_)"
   ]
  },
  {
   "cell_type": "code",
   "execution_count": 1900,
   "metadata": {},
   "outputs": [
    {
     "name": "stdout",
     "output_type": "stream",
     "text": [
      "주성분 1개, 누적 설명 분산 비율 0.8199185691628296\n",
      "주성분 2개, 누적 설명 분산 비율 0.9433002274032503\n",
      "주성분 3개, 누적 설명 분산 비율 1.0\n"
     ]
    }
   ],
   "source": [
    "print('주성분 1개, 누적 설명 분산 비율',sum(pca1.explained_variance_ratio_))\n",
    "print('주성분 2개, 누적 설명 분산 비율',sum(pca2.explained_variance_ratio_))\n",
    "print('주성분 3개, 누적 설명 분산 비율',sum(pca3.explained_variance_ratio_))\n"
   ]
  },
  {
   "cell_type": "markdown",
   "metadata": {},
   "source": [
    "3개의 독립변수 중, 결론 주성분 3개 선택"
   ]
  },
  {
   "cell_type": "code",
   "execution_count": 1902,
   "metadata": {},
   "outputs": [
    {
     "name": "stdout",
     "output_type": "stream",
     "text": [
      "(116, 3) (29, 3) (116,) (29,)\n"
     ]
    }
   ],
   "source": [
    "from sklearn.preprocessing import StandardScaler  \n",
    "\n",
    "# 독립변인들의 value값만 추출       \n",
    "x = data[['Hospital_Counts', 'Transit_Counts','Population']].values\n",
    "\n",
    "# 종속변인 추출\n",
    "y = data['Total_Registrations'].values # 종속변인 추출\n",
    "\n",
    "x = StandardScaler().fit_transform(x) # x객체에 x를 표준화한 데이터를 저장\n",
    "\n",
    "features = ['Hospital_Counts', 'Transit_Counts','Population']\n",
    "\n",
    "\n",
    "pd.DataFrame(x, columns=features).head()\n",
    "\n",
    "\n",
    "\n",
    "# 주성분을 3개로 선택\n",
    "pca = PCA(n_components=3) # 주성분을 몇개로 할지 결정\n",
    "printcipalComponents = pca.fit_transform(x)\n",
    "\n",
    "# 주성분으로 이루어진 데이터 프레임 구성\n",
    "principalDf = pd.DataFrame(data=printcipalComponents, columns = ['principal component1','principal component2','principal component3'])\n",
    "\n",
    "\n",
    "# train-test data set(0.8:0.2)\n",
    "import os\n",
    "from sklearn.model_selection import train_test_split\n",
    "\n",
    "x = principalDf\n",
    "y = y\n",
    "\n",
    "model2_train_x_v4, model2_test_x_v4, model2_train_y_v4, model2_test_y_v4 = train_test_split(x,y, test_size =0.2, random_state=423)\n",
    "print(model2_train_x_v4.shape, model2_test_x_v4.shape, model2_train_y_v4.shape, model2_test_y_v4.shape) \n"
   ]
  },
  {
   "cell_type": "code",
   "execution_count": 1903,
   "metadata": {},
   "outputs": [],
   "source": [
    "import numpy as np\n",
    "import pandas as pd\n",
    "\n",
    "# 평가 지표 계산 함수\n",
    "def score(test_y, predict):\n",
    "    from sklearn.metrics import mean_squared_error, mean_absolute_error, r2_score\n",
    "\n",
    "    mse = mean_squared_error(test_y, predict)\n",
    "    mae = mean_absolute_error(test_y, predict)\n",
    "    r_squared = r2_score(test_y, predict)\n",
    "    rmse = mean_squared_error(test_y, predict, squared=False)\n",
    "\n",
    "    print(\"Mean Squared Error (MSE):\", mse)\n",
    "    print(\"Mean Absolute Error (MAE):\", mae)\n",
    "    print(\"R-squared:\", r_squared)\n",
    "    print(\"RMSE:\", rmse)\n"
   ]
  },
  {
   "cell_type": "code",
   "execution_count": 1904,
   "metadata": {},
   "outputs": [
    {
     "name": "stdout",
     "output_type": "stream",
     "text": [
      "Mean Squared Error (MSE): 562749.660052271\n",
      "Mean Absolute Error (MAE): 508.1852847115225\n",
      "R-squared: 0.9156369975622975\n",
      "RMSE: 750.1664215707546\n"
     ]
    }
   ],
   "source": [
    "import statsmodels.api as sm\n",
    "\n",
    "# 예시 데이터 생성\n",
    "x = model2_train_x_v4\n",
    "y = model2_train_y_v4\n",
    "\n",
    "# 로버스트 회귀 모델 적합\n",
    "X_with_const = sm.add_constant(x)  # 상수항 추가\n",
    "model_robust = sm.RLM(y, X_with_const, M=sm.robust.norms.HuberT())\n",
    "result_robust = model_robust.fit()\n",
    "\n",
    "# 결과 출력\n",
    "predict_robust = result_robust.predict(sm.add_constant(model2_test_x_v4))\n",
    "\n",
    "# 미세조정\n",
    "\n",
    "predict_robust = np.clip(predict_robust, 0, 9894.280840991367)\n",
    "\n",
    "# 평가지표 계산\n",
    "score(model2_test_y_v4, predict_robust)\n",
    "\n",
    "\n",
    "# 종속변수 3개 주 성분 3개 랜덤 316//R-squared: R-squared: 0.9424816381216994"
   ]
  },
  {
   "cell_type": "code",
   "execution_count": 1905,
   "metadata": {},
   "outputs": [
    {
     "name": "stdout",
     "output_type": "stream",
     "text": [
      "Mean Squared Error (MSE): 311842.1324716351\n",
      "Mean Absolute Error (MAE): 435.5419943120359\n",
      "R-squared: 0.9532510804547811\n",
      "RMSE: 558.4282697640182\n"
     ]
    }
   ],
   "source": [
    "from sklearn.linear_model import Ridge\n",
    "\n",
    "alpha = 0.9  # 규제 강도 (하이퍼파라미터)\n",
    "model_ridge = Ridge(alpha=alpha)\n",
    "x = model2_train_x_v4\n",
    "y = model2_train_y_v4\n",
    "# 모델 학습\n",
    "model_ridge.fit(x,y)\n",
    "\n",
    "# 테스트 데이터로 예측\n",
    "predict_ridge = model_ridge.predict(model2_test_x_v4)\n",
    "\n",
    "# 평가지표 계산\n",
    "score(model2_test_y_v4, predict_ridge)\n",
    "\n",
    "\n",
    "# random_state=423\n"
   ]
  },
  {
   "cell_type": "code",
   "execution_count": 1906,
   "metadata": {},
   "outputs": [
    {
     "name": "stdout",
     "output_type": "stream",
     "text": [
      "Mean Squared Error (MSE): 3776858.2185055893\n",
      "Mean Absolute Error (MAE): 1409.1759041535247\n",
      "R-squared: 0.4338031247054899\n",
      "RMSE: 1943.4140625470397\n"
     ]
    }
   ],
   "source": [
    "from sklearn.linear_model import ElasticNet\n",
    "\n",
    "# 엘라스틱넷 회귀 모델 생성\n",
    "\n",
    "alpha = 7.0 # L1 및 L2 규제 강도 (하이퍼파라미터)\n",
    "l1_ratio = 0.1  # L1 규제의 비율 (하이퍼파라미터)\n",
    "model_el = ElasticNet(alpha=alpha, l1_ratio=l1_ratio)\n",
    "\n",
    "x = model2_train_x_v4\n",
    "y = model2_train_y_v4\n",
    "\n",
    "# 모델 학습\n",
    "model_el.fit(x,y)\n",
    "\n",
    "# 테스트 데이터로 예측\n",
    "predict_el = model_el.predict(model2_test_x_v4)\n",
    "\n",
    "# 미세조정\n",
    "predict_el = np.clip(predict_el, 0, 9894.280840991367)\n",
    "\n",
    "# 평가지표 계산\n",
    "score(model2_test_y_v4, predict_el)\n",
    "\n",
    "# 1 (0.2)0.3896202025220652"
   ]
  },
  {
   "cell_type": "code",
   "execution_count": 1907,
   "metadata": {},
   "outputs": [
    {
     "name": "stdout",
     "output_type": "stream",
     "text": [
      "Mean Squared Error (MSE): 646003.4168905976\n",
      "Mean Absolute Error (MAE): 516.4505538725757\n",
      "R-squared: 0.9031562492124056\n",
      "RMSE: 803.7433775096362\n"
     ]
    }
   ],
   "source": [
    "from sklearn.linear_model import LinearRegression\n",
    "\n",
    "model_linear= LinearRegression()\n",
    "\n",
    "x = model2_train_x_v4\n",
    "y = model2_train_y_v4\n",
    "\n",
    "# 모델 적합\n",
    "result_linear = model_linear.fit(x, y)\n",
    "\n",
    "# 결과 출력\n",
    "predict_linear = result_linear.predict(model2_test_x_v4)\n",
    "\n",
    "# 미세조정\n",
    "predict_linear = np.clip(predict_linear, 0, 9336.715817321081)\n",
    "\n",
    "# 평가지표 계산\n",
    "score(model2_test_y_v4, predict_linear)\n",
    "\n",
    "# 1 (0.2)0.7343438238428617\n",
    "#2 (0.2)R-squared: 0.8923678719936224(42)"
   ]
  },
  {
   "cell_type": "code",
   "execution_count": 1908,
   "metadata": {},
   "outputs": [
    {
     "name": "stdout",
     "output_type": "stream",
     "text": [
      "Mean Squared Error (MSE): 562749.660052271\n",
      "Mean Absolute Error (MAE): 508.1852847115225\n",
      "R-squared: 0.9156369975622975\n",
      "RMSE: 750.1664215707546\n"
     ]
    }
   ],
   "source": [
    "import statsmodels.api as sm\n",
    "\n",
    "# 예시 데이터 생성\n",
    "x = model2_train_x_v4\n",
    "y = model2_train_y_v4\n",
    "\n",
    "# 로버스트 회귀 모델 적합\n",
    "X_with_const = sm.add_constant(x)  # 상수항 추가\n",
    "model_robust = sm.RLM(y, X_with_const, M=sm.robust.norms.HuberT())\n",
    "result_robust = model_robust.fit()\n",
    "\n",
    "# 결과 출력\n",
    "predict_robust = result_robust.predict(sm.add_constant(model2_test_x_v4))\n",
    "\n",
    "# 미세조정\n",
    "\n",
    "#predict_robust = np.clip(predict_robust, 0, 9605.5158)\n",
    "predict_robust = np.clip(predict_robust, 0, 9894.280840991367)\n",
    "\n",
    "# 평가지표 계산\n",
    "score(model2_test_y_v4, predict_robust)\n",
    "\n",
    "# 1 (0.2)0.7487317587432627\n",
    "# 2 (0.2)0.890167744003798\n",
    "# 독립변수 변경 2개 주 속성 0.2 R-squared: 0.896001959824208\n",
    "#R-squared: 0.8965951385161472(9605.52)"
   ]
  },
  {
   "cell_type": "code",
   "execution_count": 1909,
   "metadata": {},
   "outputs": [
    {
     "name": "stdout",
     "output_type": "stream",
     "text": [
      "Mean Squared Error (MSE): 592924.4736925383\n",
      "Mean Absolute Error (MAE): 513.8835899351859\n",
      "R-squared: 0.911113426856889\n",
      "RMSE: 770.0158918441479\n"
     ]
    }
   ],
   "source": [
    "from sklearn.ensemble import RandomForestRegressor\n",
    "\n",
    "# 데이터 준비 (X: 독립 변수, y: 종속 변수)\n",
    "x = model2_train_x_v4\n",
    "y = model2_train_y_v4\n",
    "\n",
    "# 랜덤 포레스트 회귀 모델 생성\n",
    "model_rf = RandomForestRegressor(n_estimators=1000, max_depth=5, random_state=800)\n",
    "\n",
    "# 모델 학습\n",
    "model_rf.fit(x, y)\n",
    "\n",
    "# 예측\n",
    "predict_rf = model_rf.predict(model2_test_x_v4)\n",
    "\n",
    "# 평가지표 계산\n",
    "score(model2_test_y_v4, predict_rf)\n",
    "\n",
    "# 1 (0.2)0.6636164446164734\n",
    "# 2 (0.2)0.7077178515763327\n",
    "# 독립변수 4개 R-squared: 0.7971833601738879"
   ]
  },
  {
   "cell_type": "code",
   "execution_count": null,
   "metadata": {},
   "outputs": [],
   "source": []
  },
  {
   "cell_type": "code",
   "execution_count": null,
   "metadata": {},
   "outputs": [],
   "source": []
  }
 ],
 "metadata": {
  "kernelspec": {
   "display_name": "base",
   "language": "python",
   "name": "python3"
  },
  "language_info": {
   "codemirror_mode": {
    "name": "ipython",
    "version": 3
   },
   "file_extension": ".py",
   "mimetype": "text/x-python",
   "name": "python",
   "nbconvert_exporter": "python",
   "pygments_lexer": "ipython3",
   "version": "3.11.7"
  }
 },
 "nbformat": 4,
 "nbformat_minor": 2
}
