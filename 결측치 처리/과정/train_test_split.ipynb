{
 "cells": [
  {
   "cell_type": "code",
   "execution_count": 1,
   "metadata": {},
   "outputs": [
    {
     "data": {
      "text/html": [
       "<div>\n",
       "<style scoped>\n",
       "    .dataframe tbody tr th:only-of-type {\n",
       "        vertical-align: middle;\n",
       "    }\n",
       "\n",
       "    .dataframe tbody tr th {\n",
       "        vertical-align: top;\n",
       "    }\n",
       "\n",
       "    .dataframe thead th {\n",
       "        text-align: right;\n",
       "    }\n",
       "</style>\n",
       "<table border=\"1\" class=\"dataframe\">\n",
       "  <thead>\n",
       "    <tr style=\"text-align: right;\">\n",
       "      <th></th>\n",
       "      <th>Unnamed: 0</th>\n",
       "      <th>Gu</th>\n",
       "      <th>Dong</th>\n",
       "      <th>Hospital_Counts</th>\n",
       "      <th>Sales_Counts</th>\n",
       "      <th>Consignment_Counts</th>\n",
       "      <th>Transit_Counts</th>\n",
       "      <th>Production_Counts</th>\n",
       "      <th>Import_Counts</th>\n",
       "      <th>Population</th>\n",
       "      <th>Pet_Owners</th>\n",
       "      <th>Total_Registrations</th>\n",
       "    </tr>\n",
       "  </thead>\n",
       "  <tbody>\n",
       "    <tr>\n",
       "      <th>0</th>\n",
       "      <td>0</td>\n",
       "      <td>영등포구</td>\n",
       "      <td>영등포동</td>\n",
       "      <td>5</td>\n",
       "      <td>5</td>\n",
       "      <td>5</td>\n",
       "      <td>0</td>\n",
       "      <td>1</td>\n",
       "      <td>0</td>\n",
       "      <td>53949</td>\n",
       "      <td>1709</td>\n",
       "      <td>2207</td>\n",
       "    </tr>\n",
       "    <tr>\n",
       "      <th>1</th>\n",
       "      <td>1</td>\n",
       "      <td>영등포구</td>\n",
       "      <td>여의동</td>\n",
       "      <td>4</td>\n",
       "      <td>3</td>\n",
       "      <td>3</td>\n",
       "      <td>0</td>\n",
       "      <td>0</td>\n",
       "      <td>0</td>\n",
       "      <td>33713</td>\n",
       "      <td>1659</td>\n",
       "      <td>2064</td>\n",
       "    </tr>\n",
       "  </tbody>\n",
       "</table>\n",
       "</div>"
      ],
      "text/plain": [
       "   Unnamed: 0    Gu  Dong  Hospital_Counts  Sales_Counts  Consignment_Counts  \\\n",
       "0           0  영등포구  영등포동                5             5                   5   \n",
       "1           1  영등포구   여의동                4             3                   3   \n",
       "\n",
       "   Transit_Counts  Production_Counts  Import_Counts  Population  Pet_Owners  \\\n",
       "0               0                  1              0       53949        1709   \n",
       "1               0                  0              0       33713        1659   \n",
       "\n",
       "   Total_Registrations  \n",
       "0                 2207  \n",
       "1                 2064  "
      ]
     },
     "execution_count": 1,
     "metadata": {},
     "output_type": "execute_result"
    }
   ],
   "source": [
    "import numpy as np\n",
    "import pandas as pd\n",
    "data_row = pd.read_csv('동별통합데이터.csv') \n",
    "data = data_row.copy()\n",
    "data.head(2)"
   ]
  },
  {
   "cell_type": "code",
   "execution_count": 2,
   "metadata": {},
   "outputs": [
    {
     "data": {
      "text/html": [
       "<div>\n",
       "<style scoped>\n",
       "    .dataframe tbody tr th:only-of-type {\n",
       "        vertical-align: middle;\n",
       "    }\n",
       "\n",
       "    .dataframe tbody tr th {\n",
       "        vertical-align: top;\n",
       "    }\n",
       "\n",
       "    .dataframe thead th {\n",
       "        text-align: right;\n",
       "    }\n",
       "</style>\n",
       "<table border=\"1\" class=\"dataframe\">\n",
       "  <thead>\n",
       "    <tr style=\"text-align: right;\">\n",
       "      <th></th>\n",
       "      <th>Population</th>\n",
       "      <th>Pet_Owners</th>\n",
       "      <th>Total_Registrations</th>\n",
       "    </tr>\n",
       "  </thead>\n",
       "  <tbody>\n",
       "    <tr>\n",
       "      <th>0</th>\n",
       "      <td>53949</td>\n",
       "      <td>1709</td>\n",
       "      <td>2207</td>\n",
       "    </tr>\n",
       "    <tr>\n",
       "      <th>1</th>\n",
       "      <td>33713</td>\n",
       "      <td>1659</td>\n",
       "      <td>2064</td>\n",
       "    </tr>\n",
       "    <tr>\n",
       "      <th>2</th>\n",
       "      <td>41180</td>\n",
       "      <td>1672</td>\n",
       "      <td>2099</td>\n",
       "    </tr>\n",
       "    <tr>\n",
       "      <th>3</th>\n",
       "      <td>99799</td>\n",
       "      <td>4212</td>\n",
       "      <td>5303</td>\n",
       "    </tr>\n",
       "    <tr>\n",
       "      <th>4</th>\n",
       "      <td>32342</td>\n",
       "      <td>1222</td>\n",
       "      <td>1636</td>\n",
       "    </tr>\n",
       "    <tr>\n",
       "      <th>...</th>\n",
       "      <td>...</td>\n",
       "      <td>...</td>\n",
       "      <td>...</td>\n",
       "    </tr>\n",
       "    <tr>\n",
       "      <th>140</th>\n",
       "      <td>18022</td>\n",
       "      <td>1687</td>\n",
       "      <td>2487</td>\n",
       "    </tr>\n",
       "    <tr>\n",
       "      <th>141</th>\n",
       "      <td>33445</td>\n",
       "      <td>1855</td>\n",
       "      <td>2432</td>\n",
       "    </tr>\n",
       "    <tr>\n",
       "      <th>142</th>\n",
       "      <td>13763</td>\n",
       "      <td>1559</td>\n",
       "      <td>2287</td>\n",
       "    </tr>\n",
       "    <tr>\n",
       "      <th>143</th>\n",
       "      <td>10271</td>\n",
       "      <td>985</td>\n",
       "      <td>1301</td>\n",
       "    </tr>\n",
       "    <tr>\n",
       "      <th>144</th>\n",
       "      <td>11518</td>\n",
       "      <td>511</td>\n",
       "      <td>676</td>\n",
       "    </tr>\n",
       "  </tbody>\n",
       "</table>\n",
       "<p>145 rows × 3 columns</p>\n",
       "</div>"
      ],
      "text/plain": [
       "     Population  Pet_Owners  Total_Registrations\n",
       "0         53949        1709                 2207\n",
       "1         33713        1659                 2064\n",
       "2         41180        1672                 2099\n",
       "3         99799        4212                 5303\n",
       "4         32342        1222                 1636\n",
       "..          ...         ...                  ...\n",
       "140       18022        1687                 2487\n",
       "141       33445        1855                 2432\n",
       "142       13763        1559                 2287\n",
       "143       10271         985                 1301\n",
       "144       11518         511                  676\n",
       "\n",
       "[145 rows x 3 columns]"
      ]
     },
     "execution_count": 2,
     "metadata": {},
     "output_type": "execute_result"
    }
   ],
   "source": [
    "data = data[['Population',\t'Pet_Owners',\t'Total_Registrations']]\n",
    "data"
   ]
  },
  {
   "cell_type": "code",
   "execution_count": 3,
   "metadata": {},
   "outputs": [
    {
     "name": "stdout",
     "output_type": "stream",
     "text": [
      "<class 'pandas.core.frame.DataFrame'>\n",
      "RangeIndex: 145 entries, 0 to 144\n",
      "Data columns (total 3 columns):\n",
      " #   Column               Non-Null Count  Dtype\n",
      "---  ------               --------------  -----\n",
      " 0   Population           145 non-null    int64\n",
      " 1   Pet_Owners           145 non-null    int64\n",
      " 2   Total_Registrations  145 non-null    int64\n",
      "dtypes: int64(3)\n",
      "memory usage: 3.5 KB\n"
     ]
    }
   ],
   "source": [
    "data.info()"
   ]
  },
  {
   "cell_type": "code",
   "execution_count": 6,
   "metadata": {},
   "outputs": [
    {
     "data": {
      "text/html": [
       "<div>\n",
       "<style scoped>\n",
       "    .dataframe tbody tr th:only-of-type {\n",
       "        vertical-align: middle;\n",
       "    }\n",
       "\n",
       "    .dataframe tbody tr th {\n",
       "        vertical-align: top;\n",
       "    }\n",
       "\n",
       "    .dataframe thead th {\n",
       "        text-align: right;\n",
       "    }\n",
       "</style>\n",
       "<table border=\"1\" class=\"dataframe\">\n",
       "  <thead>\n",
       "    <tr style=\"text-align: right;\">\n",
       "      <th></th>\n",
       "      <th>Population</th>\n",
       "      <th>Total_Registrations</th>\n",
       "    </tr>\n",
       "  </thead>\n",
       "  <tbody>\n",
       "    <tr>\n",
       "      <th>0</th>\n",
       "      <td>53949</td>\n",
       "      <td>2207</td>\n",
       "    </tr>\n",
       "    <tr>\n",
       "      <th>1</th>\n",
       "      <td>33713</td>\n",
       "      <td>2064</td>\n",
       "    </tr>\n",
       "    <tr>\n",
       "      <th>2</th>\n",
       "      <td>41180</td>\n",
       "      <td>2099</td>\n",
       "    </tr>\n",
       "    <tr>\n",
       "      <th>3</th>\n",
       "      <td>99799</td>\n",
       "      <td>5303</td>\n",
       "    </tr>\n",
       "    <tr>\n",
       "      <th>4</th>\n",
       "      <td>32342</td>\n",
       "      <td>1636</td>\n",
       "    </tr>\n",
       "    <tr>\n",
       "      <th>...</th>\n",
       "      <td>...</td>\n",
       "      <td>...</td>\n",
       "    </tr>\n",
       "    <tr>\n",
       "      <th>140</th>\n",
       "      <td>18022</td>\n",
       "      <td>2487</td>\n",
       "    </tr>\n",
       "    <tr>\n",
       "      <th>141</th>\n",
       "      <td>33445</td>\n",
       "      <td>2432</td>\n",
       "    </tr>\n",
       "    <tr>\n",
       "      <th>142</th>\n",
       "      <td>13763</td>\n",
       "      <td>2287</td>\n",
       "    </tr>\n",
       "    <tr>\n",
       "      <th>143</th>\n",
       "      <td>10271</td>\n",
       "      <td>1301</td>\n",
       "    </tr>\n",
       "    <tr>\n",
       "      <th>144</th>\n",
       "      <td>11518</td>\n",
       "      <td>676</td>\n",
       "    </tr>\n",
       "  </tbody>\n",
       "</table>\n",
       "<p>145 rows × 2 columns</p>\n",
       "</div>"
      ],
      "text/plain": [
       "     Population  Total_Registrations\n",
       "0         53949                 2207\n",
       "1         33713                 2064\n",
       "2         41180                 2099\n",
       "3         99799                 5303\n",
       "4         32342                 1636\n",
       "..          ...                  ...\n",
       "140       18022                 2487\n",
       "141       33445                 2432\n",
       "142       13763                 2287\n",
       "143       10271                 1301\n",
       "144       11518                  676\n",
       "\n",
       "[145 rows x 2 columns]"
      ]
     },
     "execution_count": 6,
     "metadata": {},
     "output_type": "execute_result"
    }
   ],
   "source": [
    "model1_feature_columns = list(data.columns.difference(['Pet_Owners']))\n",
    "model1_x_feature = data[model1_feature_columns]\n",
    "model1_x_feature"
   ]
  },
  {
   "cell_type": "code",
   "execution_count": 7,
   "metadata": {},
   "outputs": [
    {
     "data": {
      "text/plain": [
       "0      1709\n",
       "1      1659\n",
       "2      1672\n",
       "3      4212\n",
       "4      1222\n",
       "       ... \n",
       "140    1687\n",
       "141    1855\n",
       "142    1559\n",
       "143     985\n",
       "144     511\n",
       "Name: Pet_Owners, Length: 145, dtype: int64"
      ]
     },
     "execution_count": 7,
     "metadata": {},
     "output_type": "execute_result"
    }
   ],
   "source": [
    "model1_y_Pet_Owners = data['Pet_Owners']\n",
    "model1_y_Pet_Owners"
   ]
  },
  {
   "cell_type": "code",
   "execution_count": 9,
   "metadata": {},
   "outputs": [
    {
     "name": "stdout",
     "output_type": "stream",
     "text": [
      "(101, 2) (44, 2) (101,) (44,)\n"
     ]
    }
   ],
   "source": [
    "import os\n",
    "from sklearn.model_selection import train_test_split\n",
    "\n",
    "x = model1_x_feature\n",
    "y = model1_y_Pet_Owners\n",
    "\n",
    "model1_train_x, model1_test_x, model1_train_y, model1_test_y = train_test_split(x,y, test_size =0.3, random_state=42 )\n",
    "print(model1_train_x.shape, model1_test_x.shape, model1_train_y.shape, model1_test_y.shape) "
   ]
  },
  {
   "cell_type": "code",
   "execution_count": 19,
   "metadata": {},
   "outputs": [],
   "source": [
    "model1_train_x.reset_index(drop=True).to_csv('model1_train_x.csv')\n",
    "model1_test_x.reset_index(drop=True).to_csv('model1_test_x.csv')\n",
    "model1_train_y.reset_index(drop=True).to_csv('model1_train_y.csv')\n",
    "model1_test_y.reset_index(drop=True).to_csv('model1_test_y.csv')"
   ]
  },
  {
   "cell_type": "code",
   "execution_count": 16,
   "metadata": {},
   "outputs": [
    {
     "name": "stdout",
     "output_type": "stream",
     "text": [
      "(101,) (44,) (101,) (44,)\n"
     ]
    }
   ],
   "source": [
    "import os\n",
    "from sklearn.model_selection import train_test_split\n",
    "\n",
    "model2_x_Pet_Population = data['Population']\n",
    "model2_y_Pet_Total_Registrations = data['Total_Registrations']\n",
    "\n",
    "\n",
    "x = model2_x_Pet_Population\n",
    "y = model2_y_Pet_Total_Registrations\n",
    "\n",
    "model2_train_x, model2_test_x, model2_train_y, model2_test_y = train_test_split(x,y, test_size =0.3, random_state=42 )\n",
    "print(model2_train_x.shape, model2_test_x.shape, model2_train_y.shape, model2_test_y.shape) "
   ]
  },
  {
   "cell_type": "code",
   "execution_count": 20,
   "metadata": {},
   "outputs": [],
   "source": [
    "model2_train_x.reset_index(drop=True).to_csv('model2_train_x.csv')\n",
    "model2_test_x.reset_index(drop=True).to_csv('model2_test_x.csv')\n",
    "model2_train_y.reset_index(drop=True).to_csv('model2_train_y.csv')\n",
    "model2_test_y.reset_index(drop=True).to_csv('model2_test_y.csv')"
   ]
  },
  {
   "cell_type": "code",
   "execution_count": null,
   "metadata": {},
   "outputs": [],
   "source": []
  }
 ],
 "metadata": {
  "kernelspec": {
   "display_name": "base",
   "language": "python",
   "name": "python3"
  },
  "language_info": {
   "codemirror_mode": {
    "name": "ipython",
    "version": 3
   },
   "file_extension": ".py",
   "mimetype": "text/x-python",
   "name": "python",
   "nbconvert_exporter": "python",
   "pygments_lexer": "ipython3",
   "version": "3.11.7"
  }
 },
 "nbformat": 4,
 "nbformat_minor": 2
}
