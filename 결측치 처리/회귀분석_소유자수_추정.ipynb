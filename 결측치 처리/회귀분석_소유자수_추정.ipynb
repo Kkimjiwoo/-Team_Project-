{
 "cells": [
  {
   "cell_type": "code",
   "execution_count": 1057,
   "metadata": {},
   "outputs": [],
   "source": [
    "import pandas as pd\n",
    "from sklearn.linear_model import LinearRegression"
   ]
  },
  {
   "cell_type": "code",
   "execution_count": 1058,
   "metadata": {},
   "outputs": [],
   "source": [
    "# 동작구 데이터 불러오기\n",
    "Dongjak_2021_raw = pd.read_csv(\"C:/Users/82108/Desktop/jw/data/주기성데이터/동작구212223/2021서울특별시_동작구_반려동물등록 현황.csv\",encoding='euc-kr')\n",
    "Dongjak_2022_raw = pd.read_csv(\"C:/Users/82108/Desktop/jw/data/주기성데이터/동작구212223/2022서울특별시_동작구_반려동물등록 현황.csv\",encoding='euc-kr')\n",
    "Dongjak_2023_raw = pd.read_csv(\"C:/Users/82108/Desktop/jw/data/주기성데이터/동작구212223/2023서울특별시_동작구_반려동물등록현황.csv\",encoding='euc-kr')\n",
    "\n",
    "# 동대문구 데이터 불러오기\n",
    "Dondaemun_2021_raw = pd.read_csv(\"C:/Users/82108/Desktop/jw/data/주기성데이터/동대문212223/2021서울특별시_동대문구_반려동물등록현황.csv\",encoding='euc-kr')\n",
    "Dondaemun_2022_raw = pd.read_csv(\"C:/Users/82108/Desktop/jw/data/주기성데이터/동대문212223/2022서울특별시_동대문구_동별반려동물현황.csv\",encoding='euc-kr')\n",
    "Dondaemun_2023_raw = pd.read_csv(\"C:/Users/82108/Desktop/jw/data/주기성데이터/동대문212223/2023서울특별시 동대문구_동별반려동물 현황.csv\",encoding='euc-kr')\n",
    "\n",
    "# 종로구 데이터 불러오기\n",
    "Jongro_2021_raw = pd.read_csv(\"C:/Users/82108/Desktop/jw/data/주기성데이터/종로구212223/2021반려동물등록현황_종로구.csv\",encoding='euc-kr')\n",
    "Jongro_2022_raw = pd.read_csv(\"C:/Users/82108/Desktop/jw/data/주기성데이터/종로구212223/2022반려동물등록현황_종로구.csv\",encoding='euc-kr')\n",
    "Jongro_2023_raw = pd.read_csv(\"C:/Users/82108/Desktop/jw/data/주기성데이터/종로구212223/2023서울특별시 종로구_반려동물등록현황.csv\",encoding='euc-kr')\n",
    "\n",
    "# 광진구 데이터 불러오기\n",
    "Gwangjin_2021_raw = pd.read_csv(\"C:/Users/82108/Desktop/jw/data/주기성데이터/광진구212224/2021서울특별시_광진구_반려동물 등록현황.csv\",encoding='euc-kr')\n",
    "Gwangjin_2022_raw = pd.read_csv(\"C:/Users/82108/Desktop/jw/data/주기성데이터/광진구212224/2022서울특별시_광진구_반려동물 등록현황.csv\",encoding='euc-kr')\n",
    "Gwangjin_2024_raw = pd.read_csv(\"C:/Users/82108/Desktop/jw/data/주기성데이터/광진구212224/2024서울특별시_광진구_반려동물 등록현황.csv\",encoding='euc-kr')\n",
    "\n",
    "# 금천구 데이터 불러오기\n",
    "Geumcheon_2021_raw = pd.read_csv(\"C:/Users/82108/Desktop/jw/data/주기성데이터/금천구212324/2021서울특별시_금천구_동별 반려동물 등록 현황 및 반려동물 등록 인구 수.csv\",encoding='euc-kr')\n",
    "Geumcheon_2023_raw = pd.read_csv(\"C:/Users/82108/Desktop/jw/data/주기성데이터/금천구212324/2023서울특별시_금천구_반려동물 등록 현황 및 인구 수.csv\",encoding='euc-kr')\n",
    "Geumcheon_2024_raw = pd.read_csv(\"C:/Users/82108/Desktop/jw/data/주기성데이터/금천구212324/2024서울특별시 금천구_반려동물 등록 현황 및 등록 인구 수.csv\",encoding='euc-kr')"
   ]
  },
  {
   "cell_type": "markdown",
   "metadata": {},
   "source": [
    "동작구 데이터 열 통일하기"
   ]
  },
  {
   "cell_type": "code",
   "execution_count": 1059,
   "metadata": {},
   "outputs": [],
   "source": [
    "# 원본 데이터 복사\n",
    "Dongjak_2021 = Dongjak_2021_raw.copy()\n",
    "Dongjak_2022 = Dongjak_2022_raw.copy()\n",
    "Dongjak_2023 = Dongjak_2023_raw.copy()"
   ]
  },
  {
   "cell_type": "code",
   "execution_count": 1060,
   "metadata": {},
   "outputs": [],
   "source": [
    "# 필요한 열만 추출하기\n",
    "Dongjak_2021 = Dongjak_2021[['법정동','동물소유자수','반려동물총계']]\n",
    "Dongjak_2022 = Dongjak_2022[['법정동','동물소유자수','반려동물총계']]\n",
    "Dongjak_2023 = Dongjak_2023[['법정동','동물소유자수','반려동물총계']]"
   ]
  },
  {
   "cell_type": "code",
   "execution_count": 1061,
   "metadata": {},
   "outputs": [],
   "source": [
    "Dongjak_2021.rename(columns = {'법정동':'Dong',\n",
    "                                 '동물소유자수':'pet_owners',\n",
    "                                 '반려동물총계':'total'}, inplace=True)\n",
    "Dongjak_2022.rename(columns = {'법정동':'Dong',\n",
    "                                 '동물소유자수':'pet_owners',\n",
    "                                 '반려동물총계':'total'}, inplace=True)\n",
    "Dongjak_2023.rename(columns = {'법정동':'Dong',\n",
    "                                 '동물소유자수':'pet_owners',\n",
    "                                 '반려동물총계':'total'}, inplace=True)"
   ]
  },
  {
   "cell_type": "code",
   "execution_count": 1062,
   "metadata": {},
   "outputs": [
    {
     "data": {
      "text/html": [
       "<div>\n",
       "<style scoped>\n",
       "    .dataframe tbody tr th:only-of-type {\n",
       "        vertical-align: middle;\n",
       "    }\n",
       "\n",
       "    .dataframe tbody tr th {\n",
       "        vertical-align: top;\n",
       "    }\n",
       "\n",
       "    .dataframe thead th {\n",
       "        text-align: right;\n",
       "    }\n",
       "</style>\n",
       "<table border=\"1\" class=\"dataframe\">\n",
       "  <thead>\n",
       "    <tr style=\"text-align: right;\">\n",
       "      <th></th>\n",
       "      <th>Dong</th>\n",
       "      <th>pet_owners</th>\n",
       "      <th>total</th>\n",
       "    </tr>\n",
       "  </thead>\n",
       "  <tbody>\n",
       "    <tr>\n",
       "      <th>0</th>\n",
       "      <td>본동</td>\n",
       "      <td>393</td>\n",
       "      <td>488</td>\n",
       "    </tr>\n",
       "    <tr>\n",
       "      <th>1</th>\n",
       "      <td>대방동</td>\n",
       "      <td>1405</td>\n",
       "      <td>1729</td>\n",
       "    </tr>\n",
       "    <tr>\n",
       "      <th>2</th>\n",
       "      <td>동작동</td>\n",
       "      <td>244</td>\n",
       "      <td>290</td>\n",
       "    </tr>\n",
       "  </tbody>\n",
       "</table>\n",
       "</div>"
      ],
      "text/plain": [
       "  Dong  pet_owners  total\n",
       "0   본동         393    488\n",
       "1  대방동        1405   1729\n",
       "2  동작동         244    290"
      ]
     },
     "execution_count": 1062,
     "metadata": {},
     "output_type": "execute_result"
    }
   ],
   "source": [
    "# 데이터 확인하기\n",
    "Dongjak_2021.head(3)"
   ]
  },
  {
   "cell_type": "code",
   "execution_count": 1063,
   "metadata": {},
   "outputs": [
    {
     "data": {
      "text/html": [
       "<div>\n",
       "<style scoped>\n",
       "    .dataframe tbody tr th:only-of-type {\n",
       "        vertical-align: middle;\n",
       "    }\n",
       "\n",
       "    .dataframe tbody tr th {\n",
       "        vertical-align: top;\n",
       "    }\n",
       "\n",
       "    .dataframe thead th {\n",
       "        text-align: right;\n",
       "    }\n",
       "</style>\n",
       "<table border=\"1\" class=\"dataframe\">\n",
       "  <thead>\n",
       "    <tr style=\"text-align: right;\">\n",
       "      <th></th>\n",
       "      <th>Dong</th>\n",
       "      <th>pet_owners</th>\n",
       "      <th>total</th>\n",
       "    </tr>\n",
       "  </thead>\n",
       "  <tbody>\n",
       "    <tr>\n",
       "      <th>0</th>\n",
       "      <td>본동</td>\n",
       "      <td>428</td>\n",
       "      <td>539</td>\n",
       "    </tr>\n",
       "    <tr>\n",
       "      <th>1</th>\n",
       "      <td>대방동</td>\n",
       "      <td>1510</td>\n",
       "      <td>1869</td>\n",
       "    </tr>\n",
       "    <tr>\n",
       "      <th>2</th>\n",
       "      <td>동작동</td>\n",
       "      <td>256</td>\n",
       "      <td>305</td>\n",
       "    </tr>\n",
       "  </tbody>\n",
       "</table>\n",
       "</div>"
      ],
      "text/plain": [
       "  Dong  pet_owners  total\n",
       "0   본동         428    539\n",
       "1  대방동        1510   1869\n",
       "2  동작동         256    305"
      ]
     },
     "execution_count": 1063,
     "metadata": {},
     "output_type": "execute_result"
    }
   ],
   "source": [
    "Dongjak_2022.head(3)"
   ]
  },
  {
   "cell_type": "code",
   "execution_count": 1064,
   "metadata": {},
   "outputs": [
    {
     "data": {
      "text/html": [
       "<div>\n",
       "<style scoped>\n",
       "    .dataframe tbody tr th:only-of-type {\n",
       "        vertical-align: middle;\n",
       "    }\n",
       "\n",
       "    .dataframe tbody tr th {\n",
       "        vertical-align: top;\n",
       "    }\n",
       "\n",
       "    .dataframe thead th {\n",
       "        text-align: right;\n",
       "    }\n",
       "</style>\n",
       "<table border=\"1\" class=\"dataframe\">\n",
       "  <thead>\n",
       "    <tr style=\"text-align: right;\">\n",
       "      <th></th>\n",
       "      <th>Dong</th>\n",
       "      <th>pet_owners</th>\n",
       "      <th>total</th>\n",
       "    </tr>\n",
       "  </thead>\n",
       "  <tbody>\n",
       "    <tr>\n",
       "      <th>0</th>\n",
       "      <td>본동</td>\n",
       "      <td>462</td>\n",
       "      <td>585</td>\n",
       "    </tr>\n",
       "    <tr>\n",
       "      <th>1</th>\n",
       "      <td>대방동</td>\n",
       "      <td>1579</td>\n",
       "      <td>1979</td>\n",
       "    </tr>\n",
       "    <tr>\n",
       "      <th>2</th>\n",
       "      <td>동작동</td>\n",
       "      <td>283</td>\n",
       "      <td>342</td>\n",
       "    </tr>\n",
       "  </tbody>\n",
       "</table>\n",
       "</div>"
      ],
      "text/plain": [
       "  Dong  pet_owners  total\n",
       "0   본동         462    585\n",
       "1  대방동        1579   1979\n",
       "2  동작동         283    342"
      ]
     },
     "execution_count": 1064,
     "metadata": {},
     "output_type": "execute_result"
    }
   ],
   "source": [
    "Dongjak_2023.head(3)"
   ]
  },
  {
   "cell_type": "markdown",
   "metadata": {},
   "source": [
    "동대문구 데이터 열 통일하기"
   ]
  },
  {
   "cell_type": "code",
   "execution_count": 1065,
   "metadata": {},
   "outputs": [],
   "source": [
    "# 원본 데이터 복사\n",
    "Dondaemun_2021 = Dondaemun_2021_raw.copy()\n",
    "Dondaemun_2022 = Dondaemun_2022_raw.copy()\n",
    "Dondaemun_2023 = Dondaemun_2023_raw.copy()"
   ]
  },
  {
   "cell_type": "code",
   "execution_count": 1066,
   "metadata": {},
   "outputs": [],
   "source": [
    "# 필요한 열만 추출하기\n",
    "Dondaemun_2021 = Dondaemun_2021[['읍면동(법정동)','동물소유자수','총등록수']]\n",
    "Dondaemun_2022 = Dondaemun_2022[['읍면동(법정동)','동물소유자수','총등록수']]\n",
    "Dondaemun_2023 = Dondaemun_2023[['읍면동(법정동)','동물소유자수','총등록수']]"
   ]
  },
  {
   "cell_type": "code",
   "execution_count": 1067,
   "metadata": {},
   "outputs": [],
   "source": [
    "Dondaemun_2021.rename(columns = {'읍면동(법정동)':'Dong',\n",
    "                                 '동물소유자수':'pet_owners',\n",
    "                                 '총등록수':'total'}, inplace=True)\n",
    "Dondaemun_2022.rename(columns = {'읍면동(법정동)':'Dong',\n",
    "                                 '동물소유자수':'pet_owners',\n",
    "                                 '총등록수':'total'}, inplace=True)\n",
    "Dondaemun_2023.rename(columns = {'읍면동(법정동)':'Dong',\n",
    "                                 '동물소유자수':'pet_owners',\n",
    "                                 '총등록수':'total'}, inplace=True)"
   ]
  },
  {
   "cell_type": "code",
   "execution_count": 1068,
   "metadata": {},
   "outputs": [
    {
     "data": {
      "text/html": [
       "<div>\n",
       "<style scoped>\n",
       "    .dataframe tbody tr th:only-of-type {\n",
       "        vertical-align: middle;\n",
       "    }\n",
       "\n",
       "    .dataframe tbody tr th {\n",
       "        vertical-align: top;\n",
       "    }\n",
       "\n",
       "    .dataframe thead th {\n",
       "        text-align: right;\n",
       "    }\n",
       "</style>\n",
       "<table border=\"1\" class=\"dataframe\">\n",
       "  <thead>\n",
       "    <tr style=\"text-align: right;\">\n",
       "      <th></th>\n",
       "      <th>Dong</th>\n",
       "      <th>pet_owners</th>\n",
       "      <th>total</th>\n",
       "    </tr>\n",
       "  </thead>\n",
       "  <tbody>\n",
       "    <tr>\n",
       "      <th>0</th>\n",
       "      <td>신설동</td>\n",
       "      <td>155</td>\n",
       "      <td>209</td>\n",
       "    </tr>\n",
       "    <tr>\n",
       "      <th>1</th>\n",
       "      <td>용두동</td>\n",
       "      <td>1056</td>\n",
       "      <td>1397</td>\n",
       "    </tr>\n",
       "    <tr>\n",
       "      <th>2</th>\n",
       "      <td>이문동</td>\n",
       "      <td>1385</td>\n",
       "      <td>2428</td>\n",
       "    </tr>\n",
       "  </tbody>\n",
       "</table>\n",
       "</div>"
      ],
      "text/plain": [
       "  Dong  pet_owners  total\n",
       "0  신설동         155    209\n",
       "1  용두동        1056   1397\n",
       "2  이문동        1385   2428"
      ]
     },
     "execution_count": 1068,
     "metadata": {},
     "output_type": "execute_result"
    }
   ],
   "source": [
    "# 데이터 확인하기\n",
    "Dondaemun_2021.head(3)"
   ]
  },
  {
   "cell_type": "code",
   "execution_count": 1069,
   "metadata": {},
   "outputs": [
    {
     "data": {
      "text/html": [
       "<div>\n",
       "<style scoped>\n",
       "    .dataframe tbody tr th:only-of-type {\n",
       "        vertical-align: middle;\n",
       "    }\n",
       "\n",
       "    .dataframe tbody tr th {\n",
       "        vertical-align: top;\n",
       "    }\n",
       "\n",
       "    .dataframe thead th {\n",
       "        text-align: right;\n",
       "    }\n",
       "</style>\n",
       "<table border=\"1\" class=\"dataframe\">\n",
       "  <thead>\n",
       "    <tr style=\"text-align: right;\">\n",
       "      <th></th>\n",
       "      <th>Dong</th>\n",
       "      <th>pet_owners</th>\n",
       "      <th>total</th>\n",
       "    </tr>\n",
       "  </thead>\n",
       "  <tbody>\n",
       "    <tr>\n",
       "      <th>0</th>\n",
       "      <td>신설동</td>\n",
       "      <td>181</td>\n",
       "      <td>248</td>\n",
       "    </tr>\n",
       "    <tr>\n",
       "      <th>1</th>\n",
       "      <td>용두동</td>\n",
       "      <td>1232</td>\n",
       "      <td>1642</td>\n",
       "    </tr>\n",
       "    <tr>\n",
       "      <th>2</th>\n",
       "      <td>이문동</td>\n",
       "      <td>1544</td>\n",
       "      <td>2623</td>\n",
       "    </tr>\n",
       "  </tbody>\n",
       "</table>\n",
       "</div>"
      ],
      "text/plain": [
       "  Dong  pet_owners  total\n",
       "0  신설동         181    248\n",
       "1  용두동        1232   1642\n",
       "2  이문동        1544   2623"
      ]
     },
     "execution_count": 1069,
     "metadata": {},
     "output_type": "execute_result"
    }
   ],
   "source": [
    "Dondaemun_2022.head(3)"
   ]
  },
  {
   "cell_type": "code",
   "execution_count": 1070,
   "metadata": {},
   "outputs": [
    {
     "data": {
      "text/html": [
       "<div>\n",
       "<style scoped>\n",
       "    .dataframe tbody tr th:only-of-type {\n",
       "        vertical-align: middle;\n",
       "    }\n",
       "\n",
       "    .dataframe tbody tr th {\n",
       "        vertical-align: top;\n",
       "    }\n",
       "\n",
       "    .dataframe thead th {\n",
       "        text-align: right;\n",
       "    }\n",
       "</style>\n",
       "<table border=\"1\" class=\"dataframe\">\n",
       "  <thead>\n",
       "    <tr style=\"text-align: right;\">\n",
       "      <th></th>\n",
       "      <th>Dong</th>\n",
       "      <th>pet_owners</th>\n",
       "      <th>total</th>\n",
       "    </tr>\n",
       "  </thead>\n",
       "  <tbody>\n",
       "    <tr>\n",
       "      <th>0</th>\n",
       "      <td>신설동</td>\n",
       "      <td>183</td>\n",
       "      <td>254</td>\n",
       "    </tr>\n",
       "    <tr>\n",
       "      <th>1</th>\n",
       "      <td>용두동</td>\n",
       "      <td>1267</td>\n",
       "      <td>1692</td>\n",
       "    </tr>\n",
       "    <tr>\n",
       "      <th>2</th>\n",
       "      <td>이문동</td>\n",
       "      <td>1578</td>\n",
       "      <td>2671</td>\n",
       "    </tr>\n",
       "  </tbody>\n",
       "</table>\n",
       "</div>"
      ],
      "text/plain": [
       "  Dong  pet_owners  total\n",
       "0  신설동         183    254\n",
       "1  용두동        1267   1692\n",
       "2  이문동        1578   2671"
      ]
     },
     "execution_count": 1070,
     "metadata": {},
     "output_type": "execute_result"
    }
   ],
   "source": [
    "Dondaemun_2023.head(3)"
   ]
  },
  {
   "cell_type": "markdown",
   "metadata": {},
   "source": [
    "종로구 데이터 열 통일하기"
   ]
  },
  {
   "cell_type": "code",
   "execution_count": 1071,
   "metadata": {},
   "outputs": [],
   "source": [
    "# 원본 데이터 복사\n",
    "Jongro_2021 = Jongro_2021_raw.copy()\n",
    "Jongro_2022 = Jongro_2022_raw.copy()\n",
    "Jongro_2023 = Jongro_2023_raw.copy()"
   ]
  },
  {
   "cell_type": "code",
   "execution_count": 1072,
   "metadata": {},
   "outputs": [],
   "source": [
    "# 필요한 열만 추출하기\n",
    "Jongro_2021 = Jongro_2021[['법정동명','등록소유자수','등록동물수(마리)']]\n",
    "Jongro_2022 = Jongro_2022[['법정동명','등록소유자수','등록동물수(마리)']]\n",
    "Jongro_2023 = Jongro_2023[['법정동명','등록소유자수','등록동물수(마리)']]"
   ]
  },
  {
   "cell_type": "code",
   "execution_count": 1073,
   "metadata": {},
   "outputs": [],
   "source": [
    "Jongro_2021.rename(columns = {'법정동명':'Dong',\n",
    "                                 '등록소유자수':'pet_owners',\n",
    "                                 '등록동물수(마리)':'total'}, inplace=True)\n",
    "Jongro_2022.rename(columns = {'법정동명':'Dong',\n",
    "                                 '등록소유자수':'pet_owners',\n",
    "                                 '등록동물수(마리)':'total'}, inplace=True)\n",
    "Jongro_2023.rename(columns = {'법정동명':'Dong',\n",
    "                                 '등록소유자수':'pet_owners',\n",
    "                                 '등록동물수(마리)':'total'}, inplace=True)"
   ]
  },
  {
   "cell_type": "code",
   "execution_count": 1074,
   "metadata": {},
   "outputs": [
    {
     "data": {
      "text/html": [
       "<div>\n",
       "<style scoped>\n",
       "    .dataframe tbody tr th:only-of-type {\n",
       "        vertical-align: middle;\n",
       "    }\n",
       "\n",
       "    .dataframe tbody tr th {\n",
       "        vertical-align: top;\n",
       "    }\n",
       "\n",
       "    .dataframe thead th {\n",
       "        text-align: right;\n",
       "    }\n",
       "</style>\n",
       "<table border=\"1\" class=\"dataframe\">\n",
       "  <thead>\n",
       "    <tr style=\"text-align: right;\">\n",
       "      <th></th>\n",
       "      <th>Dong</th>\n",
       "      <th>pet_owners</th>\n",
       "      <th>total</th>\n",
       "    </tr>\n",
       "  </thead>\n",
       "  <tbody>\n",
       "    <tr>\n",
       "      <th>0</th>\n",
       "      <td>계동</td>\n",
       "      <td>60</td>\n",
       "      <td>74</td>\n",
       "    </tr>\n",
       "    <tr>\n",
       "      <th>1</th>\n",
       "      <td>재동</td>\n",
       "      <td>4</td>\n",
       "      <td>4</td>\n",
       "    </tr>\n",
       "    <tr>\n",
       "      <th>2</th>\n",
       "      <td>평동</td>\n",
       "      <td>26</td>\n",
       "      <td>34</td>\n",
       "    </tr>\n",
       "  </tbody>\n",
       "</table>\n",
       "</div>"
      ],
      "text/plain": [
       "  Dong  pet_owners  total\n",
       "0   계동          60     74\n",
       "1   재동           4      4\n",
       "2   평동          26     34"
      ]
     },
     "execution_count": 1074,
     "metadata": {},
     "output_type": "execute_result"
    }
   ],
   "source": [
    "# 데이터 확인하기\n",
    "Jongro_2021.head(3)"
   ]
  },
  {
   "cell_type": "code",
   "execution_count": 1075,
   "metadata": {},
   "outputs": [
    {
     "data": {
      "text/html": [
       "<div>\n",
       "<style scoped>\n",
       "    .dataframe tbody tr th:only-of-type {\n",
       "        vertical-align: middle;\n",
       "    }\n",
       "\n",
       "    .dataframe tbody tr th {\n",
       "        vertical-align: top;\n",
       "    }\n",
       "\n",
       "    .dataframe thead th {\n",
       "        text-align: right;\n",
       "    }\n",
       "</style>\n",
       "<table border=\"1\" class=\"dataframe\">\n",
       "  <thead>\n",
       "    <tr style=\"text-align: right;\">\n",
       "      <th></th>\n",
       "      <th>Dong</th>\n",
       "      <th>pet_owners</th>\n",
       "      <th>total</th>\n",
       "    </tr>\n",
       "  </thead>\n",
       "  <tbody>\n",
       "    <tr>\n",
       "      <th>0</th>\n",
       "      <td>계동</td>\n",
       "      <td>67</td>\n",
       "      <td>83</td>\n",
       "    </tr>\n",
       "    <tr>\n",
       "      <th>1</th>\n",
       "      <td>재동</td>\n",
       "      <td>6</td>\n",
       "      <td>7</td>\n",
       "    </tr>\n",
       "    <tr>\n",
       "      <th>2</th>\n",
       "      <td>평동</td>\n",
       "      <td>32</td>\n",
       "      <td>39</td>\n",
       "    </tr>\n",
       "  </tbody>\n",
       "</table>\n",
       "</div>"
      ],
      "text/plain": [
       "  Dong  pet_owners  total\n",
       "0   계동          67     83\n",
       "1   재동           6      7\n",
       "2   평동          32     39"
      ]
     },
     "execution_count": 1075,
     "metadata": {},
     "output_type": "execute_result"
    }
   ],
   "source": [
    "Jongro_2022.head(3)"
   ]
  },
  {
   "cell_type": "code",
   "execution_count": 1076,
   "metadata": {},
   "outputs": [
    {
     "data": {
      "text/html": [
       "<div>\n",
       "<style scoped>\n",
       "    .dataframe tbody tr th:only-of-type {\n",
       "        vertical-align: middle;\n",
       "    }\n",
       "\n",
       "    .dataframe tbody tr th {\n",
       "        vertical-align: top;\n",
       "    }\n",
       "\n",
       "    .dataframe thead th {\n",
       "        text-align: right;\n",
       "    }\n",
       "</style>\n",
       "<table border=\"1\" class=\"dataframe\">\n",
       "  <thead>\n",
       "    <tr style=\"text-align: right;\">\n",
       "      <th></th>\n",
       "      <th>Dong</th>\n",
       "      <th>pet_owners</th>\n",
       "      <th>total</th>\n",
       "    </tr>\n",
       "  </thead>\n",
       "  <tbody>\n",
       "    <tr>\n",
       "      <th>0</th>\n",
       "      <td>계동</td>\n",
       "      <td>70</td>\n",
       "      <td>87</td>\n",
       "    </tr>\n",
       "    <tr>\n",
       "      <th>1</th>\n",
       "      <td>재동</td>\n",
       "      <td>6</td>\n",
       "      <td>7</td>\n",
       "    </tr>\n",
       "    <tr>\n",
       "      <th>2</th>\n",
       "      <td>평동</td>\n",
       "      <td>38</td>\n",
       "      <td>47</td>\n",
       "    </tr>\n",
       "  </tbody>\n",
       "</table>\n",
       "</div>"
      ],
      "text/plain": [
       "  Dong  pet_owners  total\n",
       "0   계동          70     87\n",
       "1   재동           6      7\n",
       "2   평동          38     47"
      ]
     },
     "execution_count": 1076,
     "metadata": {},
     "output_type": "execute_result"
    }
   ],
   "source": [
    "Jongro_2023.head(3)"
   ]
  },
  {
   "cell_type": "markdown",
   "metadata": {},
   "source": [
    "광진구 데이터 열 통일하기"
   ]
  },
  {
   "cell_type": "code",
   "execution_count": 1077,
   "metadata": {},
   "outputs": [],
   "source": [
    "# 원본 데이터 복사\n",
    "Gwangjin_2021 = Gwangjin_2021_raw.copy()\n",
    "Gwangjin_2022= Gwangjin_2022_raw.copy()\n",
    "Gwangjin_2024 = Gwangjin_2024_raw.copy()"
   ]
  },
  {
   "cell_type": "code",
   "execution_count": 1078,
   "metadata": {},
   "outputs": [],
   "source": [
    "# 필요한 열 만들기(총 반력 동물 등록 수)\n",
    "Gwangjin_2021['total'] = Gwangjin_2021['RFID종류(내장형)'] + Gwangjin_2021['RFID종류(외장형)'] + Gwangjin_2021['RFID종류(인식표)']\n",
    "Gwangjin_2022['total'] = Gwangjin_2022['근거리 데이터 전송기술(RFID)종류_내장형'] + Gwangjin_2022['근거리 데이터 전송기술(RFID)종류_외장형'] + Gwangjin_2022['근거리 데이터 전송기술(RFID)종류_인식표']\n",
    "Gwangjin_2024['total'] = Gwangjin_2021['RFID종류(내장형)'] + Gwangjin_2021['RFID종류(외장형)'] + Gwangjin_2021['RFID종류(인식표)']"
   ]
  },
  {
   "cell_type": "code",
   "execution_count": 1079,
   "metadata": {},
   "outputs": [],
   "source": [
    "# 필요한 열만 추출하기\n",
    "Gwangjin_2021 = Gwangjin_2021[['읍면동(법정동)','동물소유자수','total']]\n",
    "Gwangjin_2022 = Gwangjin_2022[['읍면동(법정동)','동물소유자수','total']]\n",
    "Gwangjin_2024 = Gwangjin_2024[['읍면동(법정동)','동물소유자수','total']]"
   ]
  },
  {
   "cell_type": "code",
   "execution_count": 1080,
   "metadata": {},
   "outputs": [],
   "source": [
    "# 열 이름 변경\n",
    "Gwangjin_2021.rename(columns = {'읍면동(법정동)':'Dong',\n",
    "                                '동물소유자수':'pet_owners'},\n",
    "                     inplace=True)\n",
    "\n",
    "Gwangjin_2022.rename(columns = {'읍면동(법정동)':'Dong',\n",
    "                                '동물소유자수':'pet_owners'},\n",
    "                     inplace=True)\n",
    "\n",
    "Gwangjin_2024.rename(columns = {'읍면동(법정동)':'Dong',\n",
    "                                '동물소유자수':'pet_owners'},\n",
    "                     inplace=True)"
   ]
  },
  {
   "cell_type": "code",
   "execution_count": 1081,
   "metadata": {},
   "outputs": [
    {
     "data": {
      "text/html": [
       "<div>\n",
       "<style scoped>\n",
       "    .dataframe tbody tr th:only-of-type {\n",
       "        vertical-align: middle;\n",
       "    }\n",
       "\n",
       "    .dataframe tbody tr th {\n",
       "        vertical-align: top;\n",
       "    }\n",
       "\n",
       "    .dataframe thead th {\n",
       "        text-align: right;\n",
       "    }\n",
       "</style>\n",
       "<table border=\"1\" class=\"dataframe\">\n",
       "  <thead>\n",
       "    <tr style=\"text-align: right;\">\n",
       "      <th></th>\n",
       "      <th>Dong</th>\n",
       "      <th>pet_owners</th>\n",
       "      <th>total</th>\n",
       "    </tr>\n",
       "  </thead>\n",
       "  <tbody>\n",
       "    <tr>\n",
       "      <th>0</th>\n",
       "      <td>능동</td>\n",
       "      <td>400</td>\n",
       "      <td>493</td>\n",
       "    </tr>\n",
       "    <tr>\n",
       "      <th>1</th>\n",
       "      <td>광장동</td>\n",
       "      <td>1331</td>\n",
       "      <td>1588</td>\n",
       "    </tr>\n",
       "    <tr>\n",
       "      <th>2</th>\n",
       "      <td>구의동</td>\n",
       "      <td>3325</td>\n",
       "      <td>4223</td>\n",
       "    </tr>\n",
       "  </tbody>\n",
       "</table>\n",
       "</div>"
      ],
      "text/plain": [
       "  Dong  pet_owners  total\n",
       "0   능동         400    493\n",
       "1  광장동        1331   1588\n",
       "2  구의동        3325   4223"
      ]
     },
     "execution_count": 1081,
     "metadata": {},
     "output_type": "execute_result"
    }
   ],
   "source": [
    "# 데이터 확인하기\n",
    "Gwangjin_2021.head(3)"
   ]
  },
  {
   "cell_type": "code",
   "execution_count": 1082,
   "metadata": {},
   "outputs": [
    {
     "data": {
      "text/html": [
       "<div>\n",
       "<style scoped>\n",
       "    .dataframe tbody tr th:only-of-type {\n",
       "        vertical-align: middle;\n",
       "    }\n",
       "\n",
       "    .dataframe tbody tr th {\n",
       "        vertical-align: top;\n",
       "    }\n",
       "\n",
       "    .dataframe thead th {\n",
       "        text-align: right;\n",
       "    }\n",
       "</style>\n",
       "<table border=\"1\" class=\"dataframe\">\n",
       "  <thead>\n",
       "    <tr style=\"text-align: right;\">\n",
       "      <th></th>\n",
       "      <th>Dong</th>\n",
       "      <th>pet_owners</th>\n",
       "      <th>total</th>\n",
       "    </tr>\n",
       "  </thead>\n",
       "  <tbody>\n",
       "    <tr>\n",
       "      <th>0</th>\n",
       "      <td>능동</td>\n",
       "      <td>67</td>\n",
       "      <td>79</td>\n",
       "    </tr>\n",
       "    <tr>\n",
       "      <th>1</th>\n",
       "      <td>광장동</td>\n",
       "      <td>234</td>\n",
       "      <td>259</td>\n",
       "    </tr>\n",
       "    <tr>\n",
       "      <th>2</th>\n",
       "      <td>구의동</td>\n",
       "      <td>480</td>\n",
       "      <td>567</td>\n",
       "    </tr>\n",
       "  </tbody>\n",
       "</table>\n",
       "</div>"
      ],
      "text/plain": [
       "  Dong  pet_owners  total\n",
       "0   능동          67     79\n",
       "1  광장동         234    259\n",
       "2  구의동         480    567"
      ]
     },
     "execution_count": 1082,
     "metadata": {},
     "output_type": "execute_result"
    }
   ],
   "source": [
    "Gwangjin_2022.head(3)"
   ]
  },
  {
   "cell_type": "code",
   "execution_count": 1083,
   "metadata": {},
   "outputs": [
    {
     "data": {
      "text/html": [
       "<div>\n",
       "<style scoped>\n",
       "    .dataframe tbody tr th:only-of-type {\n",
       "        vertical-align: middle;\n",
       "    }\n",
       "\n",
       "    .dataframe tbody tr th {\n",
       "        vertical-align: top;\n",
       "    }\n",
       "\n",
       "    .dataframe thead th {\n",
       "        text-align: right;\n",
       "    }\n",
       "</style>\n",
       "<table border=\"1\" class=\"dataframe\">\n",
       "  <thead>\n",
       "    <tr style=\"text-align: right;\">\n",
       "      <th></th>\n",
       "      <th>Dong</th>\n",
       "      <th>pet_owners</th>\n",
       "      <th>total</th>\n",
       "    </tr>\n",
       "  </thead>\n",
       "  <tbody>\n",
       "    <tr>\n",
       "      <th>0</th>\n",
       "      <td>능동</td>\n",
       "      <td>463</td>\n",
       "      <td>493</td>\n",
       "    </tr>\n",
       "    <tr>\n",
       "      <th>1</th>\n",
       "      <td>광장동</td>\n",
       "      <td>1587</td>\n",
       "      <td>1588</td>\n",
       "    </tr>\n",
       "    <tr>\n",
       "      <th>2</th>\n",
       "      <td>구의동</td>\n",
       "      <td>3848</td>\n",
       "      <td>4223</td>\n",
       "    </tr>\n",
       "  </tbody>\n",
       "</table>\n",
       "</div>"
      ],
      "text/plain": [
       "  Dong  pet_owners  total\n",
       "0   능동         463    493\n",
       "1  광장동        1587   1588\n",
       "2  구의동        3848   4223"
      ]
     },
     "execution_count": 1083,
     "metadata": {},
     "output_type": "execute_result"
    }
   ],
   "source": [
    "Gwangjin_2024.head(3)"
   ]
  },
  {
   "cell_type": "markdown",
   "metadata": {},
   "source": [
    "금천구 데이터 열 통일하기"
   ]
  },
  {
   "cell_type": "code",
   "execution_count": 1084,
   "metadata": {},
   "outputs": [],
   "source": [
    "# 원본 데이터 복사\n",
    "Geumcheon_2021 = Geumcheon_2021_raw.copy()\n",
    "Geumcheon_2023= Geumcheon_2023_raw.copy()\n",
    "Geumcheon_2024 = Geumcheon_2024_raw.copy()"
   ]
  },
  {
   "cell_type": "code",
   "execution_count": 1085,
   "metadata": {},
   "outputs": [
    {
     "data": {
      "text/html": [
       "<div>\n",
       "<style scoped>\n",
       "    .dataframe tbody tr th:only-of-type {\n",
       "        vertical-align: middle;\n",
       "    }\n",
       "\n",
       "    .dataframe tbody tr th {\n",
       "        vertical-align: top;\n",
       "    }\n",
       "\n",
       "    .dataframe thead th {\n",
       "        text-align: right;\n",
       "    }\n",
       "</style>\n",
       "<table border=\"1\" class=\"dataframe\">\n",
       "  <thead>\n",
       "    <tr style=\"text-align: right;\">\n",
       "      <th></th>\n",
       "      <th>법정동</th>\n",
       "      <th>동물소유자수(전체)</th>\n",
       "      <th>개체수(전체)</th>\n",
       "      <th>동물소유자수(개)</th>\n",
       "      <th>개체수(개)</th>\n",
       "      <th>동물소유자수(고양이)</th>\n",
       "      <th>개체수(고양이)</th>\n",
       "      <th>비고</th>\n",
       "      <th>데이터 기준일자</th>\n",
       "    </tr>\n",
       "  </thead>\n",
       "  <tbody>\n",
       "    <tr>\n",
       "      <th>0</th>\n",
       "      <td>가산동</td>\n",
       "      <td>617</td>\n",
       "      <td>792</td>\n",
       "      <td>614</td>\n",
       "      <td>788</td>\n",
       "      <td>3</td>\n",
       "      <td>4</td>\n",
       "      <td>동물보호관리시스템 통계로서 축종별 통계를 합산한 전체 통계에 미세한 불일치 있음</td>\n",
       "      <td>2021-03-05</td>\n",
       "    </tr>\n",
       "  </tbody>\n",
       "</table>\n",
       "</div>"
      ],
      "text/plain": [
       "   법정동  동물소유자수(전체)  개체수(전체)  동물소유자수(개)  개체수(개)  동물소유자수(고양이)  개체수(고양이)  \\\n",
       "0  가산동         617      792        614     788            3         4   \n",
       "\n",
       "                                             비고    데이터 기준일자  \n",
       "0  동물보호관리시스템 통계로서 축종별 통계를 합산한 전체 통계에 미세한 불일치 있음  2021-03-05  "
      ]
     },
     "execution_count": 1085,
     "metadata": {},
     "output_type": "execute_result"
    }
   ],
   "source": [
    "Geumcheon_2021.head(1)"
   ]
  },
  {
   "cell_type": "code",
   "execution_count": 1086,
   "metadata": {},
   "outputs": [
    {
     "data": {
      "text/html": [
       "<div>\n",
       "<style scoped>\n",
       "    .dataframe tbody tr th:only-of-type {\n",
       "        vertical-align: middle;\n",
       "    }\n",
       "\n",
       "    .dataframe tbody tr th {\n",
       "        vertical-align: top;\n",
       "    }\n",
       "\n",
       "    .dataframe thead th {\n",
       "        text-align: right;\n",
       "    }\n",
       "</style>\n",
       "<table border=\"1\" class=\"dataframe\">\n",
       "  <thead>\n",
       "    <tr style=\"text-align: right;\">\n",
       "      <th></th>\n",
       "      <th>법정동</th>\n",
       "      <th>동물소유자수(전체)</th>\n",
       "      <th>개체수(전체)</th>\n",
       "      <th>동물소유자수(개)</th>\n",
       "      <th>개체수(개)</th>\n",
       "      <th>동물소유자수(고양이)</th>\n",
       "      <th>개체수(고양이)</th>\n",
       "      <th>비고</th>\n",
       "      <th>데이터 기준일자</th>\n",
       "    </tr>\n",
       "  </thead>\n",
       "  <tbody>\n",
       "    <tr>\n",
       "      <th>0</th>\n",
       "      <td>가산동</td>\n",
       "      <td>861</td>\n",
       "      <td>1108</td>\n",
       "      <td>839</td>\n",
       "      <td>1084</td>\n",
       "      <td>22</td>\n",
       "      <td>24</td>\n",
       "      <td>동물보호관리시스템 통계로서 축종별 통계를 합산한 전체 통계에 미세한 불일치 있음</td>\n",
       "      <td>2023-02-17</td>\n",
       "    </tr>\n",
       "  </tbody>\n",
       "</table>\n",
       "</div>"
      ],
      "text/plain": [
       "   법정동  동물소유자수(전체)  개체수(전체)  동물소유자수(개)  개체수(개)  동물소유자수(고양이)  개체수(고양이)  \\\n",
       "0  가산동         861     1108        839    1084           22        24   \n",
       "\n",
       "                                             비고    데이터 기준일자  \n",
       "0  동물보호관리시스템 통계로서 축종별 통계를 합산한 전체 통계에 미세한 불일치 있음  2023-02-17  "
      ]
     },
     "execution_count": 1086,
     "metadata": {},
     "output_type": "execute_result"
    }
   ],
   "source": [
    "Geumcheon_2023.head(1)"
   ]
  },
  {
   "cell_type": "code",
   "execution_count": 1087,
   "metadata": {},
   "outputs": [
    {
     "data": {
      "text/html": [
       "<div>\n",
       "<style scoped>\n",
       "    .dataframe tbody tr th:only-of-type {\n",
       "        vertical-align: middle;\n",
       "    }\n",
       "\n",
       "    .dataframe tbody tr th {\n",
       "        vertical-align: top;\n",
       "    }\n",
       "\n",
       "    .dataframe thead th {\n",
       "        text-align: right;\n",
       "    }\n",
       "</style>\n",
       "<table border=\"1\" class=\"dataframe\">\n",
       "  <thead>\n",
       "    <tr style=\"text-align: right;\">\n",
       "      <th></th>\n",
       "      <th>법정동</th>\n",
       "      <th>동물소유자수(전체)</th>\n",
       "      <th>개체수(전체)</th>\n",
       "      <th>동물소유자수(개)</th>\n",
       "      <th>개체수(개)</th>\n",
       "      <th>동물소유자수(고양이)</th>\n",
       "      <th>개체수(고양이)</th>\n",
       "      <th>비고</th>\n",
       "      <th>데이터 기준일자</th>\n",
       "    </tr>\n",
       "  </thead>\n",
       "  <tbody>\n",
       "    <tr>\n",
       "      <th>0</th>\n",
       "      <td>가산동</td>\n",
       "      <td>912</td>\n",
       "      <td>1139</td>\n",
       "      <td>882</td>\n",
       "      <td>1106</td>\n",
       "      <td>31</td>\n",
       "      <td>33</td>\n",
       "      <td>동물보호관리시스템 통계로서 축종별 통계를 합산한 전체 통계에 미세한 불일치 있음</td>\n",
       "      <td>2024-02-14</td>\n",
       "    </tr>\n",
       "  </tbody>\n",
       "</table>\n",
       "</div>"
      ],
      "text/plain": [
       "   법정동  동물소유자수(전체)  개체수(전체)  동물소유자수(개)  개체수(개)  동물소유자수(고양이)  개체수(고양이)  \\\n",
       "0  가산동         912     1139        882    1106           31        33   \n",
       "\n",
       "                                             비고    데이터 기준일자  \n",
       "0  동물보호관리시스템 통계로서 축종별 통계를 합산한 전체 통계에 미세한 불일치 있음  2024-02-14  "
      ]
     },
     "execution_count": 1087,
     "metadata": {},
     "output_type": "execute_result"
    }
   ],
   "source": [
    "Geumcheon_2024.head(1)"
   ]
  },
  {
   "cell_type": "code",
   "execution_count": 1088,
   "metadata": {},
   "outputs": [],
   "source": [
    "# 필요한 열만 추출하기\n",
    "Geumcheon_2021 = Geumcheon_2021[['법정동','동물소유자수(전체)','개체수(전체)']]\n",
    "Geumcheon_2023 = Geumcheon_2023[['법정동','동물소유자수(전체)','개체수(전체)']]\n",
    "Geumcheon_2024 = Geumcheon_2024[['법정동','동물소유자수(전체)','개체수(전체)']]"
   ]
  },
  {
   "cell_type": "code",
   "execution_count": 1089,
   "metadata": {},
   "outputs": [],
   "source": [
    "# 열 이름 변경\n",
    "Geumcheon_2021.rename(columns = {'법정동':'Dong',\n",
    "                                '동물소유자수(전체)':'pet_owners',\n",
    "                                '개체수(전체)':'total'},\n",
    "                     inplace=True)\n",
    "\n",
    "Geumcheon_2023.rename(columns = {'법정동':'Dong',\n",
    "                                '동물소유자수(전체)':'pet_owners',\n",
    "                                '개체수(전체)':'total'},\n",
    "                     inplace=True)\n",
    "\n",
    "Geumcheon_2024.rename(columns = {'법정동':'Dong',\n",
    "                                '동물소유자수(전체)':'pet_owners',\n",
    "                                '개체수(전체)':'total'},\n",
    "                     inplace=True)"
   ]
  },
  {
   "cell_type": "code",
   "execution_count": 1090,
   "metadata": {},
   "outputs": [
    {
     "data": {
      "text/html": [
       "<div>\n",
       "<style scoped>\n",
       "    .dataframe tbody tr th:only-of-type {\n",
       "        vertical-align: middle;\n",
       "    }\n",
       "\n",
       "    .dataframe tbody tr th {\n",
       "        vertical-align: top;\n",
       "    }\n",
       "\n",
       "    .dataframe thead th {\n",
       "        text-align: right;\n",
       "    }\n",
       "</style>\n",
       "<table border=\"1\" class=\"dataframe\">\n",
       "  <thead>\n",
       "    <tr style=\"text-align: right;\">\n",
       "      <th></th>\n",
       "      <th>Dong</th>\n",
       "      <th>pet_owners</th>\n",
       "      <th>total</th>\n",
       "    </tr>\n",
       "  </thead>\n",
       "  <tbody>\n",
       "    <tr>\n",
       "      <th>0</th>\n",
       "      <td>가산동</td>\n",
       "      <td>617</td>\n",
       "      <td>792</td>\n",
       "    </tr>\n",
       "    <tr>\n",
       "      <th>1</th>\n",
       "      <td>독산동</td>\n",
       "      <td>3639</td>\n",
       "      <td>4652</td>\n",
       "    </tr>\n",
       "    <tr>\n",
       "      <th>2</th>\n",
       "      <td>시흥동</td>\n",
       "      <td>4080</td>\n",
       "      <td>5209</td>\n",
       "    </tr>\n",
       "  </tbody>\n",
       "</table>\n",
       "</div>"
      ],
      "text/plain": [
       "  Dong  pet_owners  total\n",
       "0  가산동         617    792\n",
       "1  독산동        3639   4652\n",
       "2  시흥동        4080   5209"
      ]
     },
     "execution_count": 1090,
     "metadata": {},
     "output_type": "execute_result"
    }
   ],
   "source": [
    "# 데이터 확인하기\n",
    "Geumcheon_2021.head(3)"
   ]
  },
  {
   "cell_type": "code",
   "execution_count": 1091,
   "metadata": {},
   "outputs": [
    {
     "data": {
      "text/html": [
       "<div>\n",
       "<style scoped>\n",
       "    .dataframe tbody tr th:only-of-type {\n",
       "        vertical-align: middle;\n",
       "    }\n",
       "\n",
       "    .dataframe tbody tr th {\n",
       "        vertical-align: top;\n",
       "    }\n",
       "\n",
       "    .dataframe thead th {\n",
       "        text-align: right;\n",
       "    }\n",
       "</style>\n",
       "<table border=\"1\" class=\"dataframe\">\n",
       "  <thead>\n",
       "    <tr style=\"text-align: right;\">\n",
       "      <th></th>\n",
       "      <th>Dong</th>\n",
       "      <th>pet_owners</th>\n",
       "      <th>total</th>\n",
       "    </tr>\n",
       "  </thead>\n",
       "  <tbody>\n",
       "    <tr>\n",
       "      <th>0</th>\n",
       "      <td>가산동</td>\n",
       "      <td>861</td>\n",
       "      <td>1108</td>\n",
       "    </tr>\n",
       "    <tr>\n",
       "      <th>1</th>\n",
       "      <td>독산동</td>\n",
       "      <td>4641</td>\n",
       "      <td>6046</td>\n",
       "    </tr>\n",
       "    <tr>\n",
       "      <th>2</th>\n",
       "      <td>시흥동</td>\n",
       "      <td>5030</td>\n",
       "      <td>6523</td>\n",
       "    </tr>\n",
       "  </tbody>\n",
       "</table>\n",
       "</div>"
      ],
      "text/plain": [
       "  Dong  pet_owners  total\n",
       "0  가산동         861   1108\n",
       "1  독산동        4641   6046\n",
       "2  시흥동        5030   6523"
      ]
     },
     "execution_count": 1091,
     "metadata": {},
     "output_type": "execute_result"
    }
   ],
   "source": [
    "Geumcheon_2023.head(3)"
   ]
  },
  {
   "cell_type": "code",
   "execution_count": 1092,
   "metadata": {},
   "outputs": [
    {
     "data": {
      "text/html": [
       "<div>\n",
       "<style scoped>\n",
       "    .dataframe tbody tr th:only-of-type {\n",
       "        vertical-align: middle;\n",
       "    }\n",
       "\n",
       "    .dataframe tbody tr th {\n",
       "        vertical-align: top;\n",
       "    }\n",
       "\n",
       "    .dataframe thead th {\n",
       "        text-align: right;\n",
       "    }\n",
       "</style>\n",
       "<table border=\"1\" class=\"dataframe\">\n",
       "  <thead>\n",
       "    <tr style=\"text-align: right;\">\n",
       "      <th></th>\n",
       "      <th>Dong</th>\n",
       "      <th>pet_owners</th>\n",
       "      <th>total</th>\n",
       "    </tr>\n",
       "  </thead>\n",
       "  <tbody>\n",
       "    <tr>\n",
       "      <th>0</th>\n",
       "      <td>가산동</td>\n",
       "      <td>912</td>\n",
       "      <td>1139</td>\n",
       "    </tr>\n",
       "    <tr>\n",
       "      <th>1</th>\n",
       "      <td>독산동</td>\n",
       "      <td>4709</td>\n",
       "      <td>6044</td>\n",
       "    </tr>\n",
       "    <tr>\n",
       "      <th>2</th>\n",
       "      <td>시흥동</td>\n",
       "      <td>5007</td>\n",
       "      <td>6369</td>\n",
       "    </tr>\n",
       "  </tbody>\n",
       "</table>\n",
       "</div>"
      ],
      "text/plain": [
       "  Dong  pet_owners  total\n",
       "0  가산동         912   1139\n",
       "1  독산동        4709   6044\n",
       "2  시흥동        5007   6369"
      ]
     },
     "execution_count": 1092,
     "metadata": {},
     "output_type": "execute_result"
    }
   ],
   "source": [
    "Geumcheon_2024.head(3)"
   ]
  },
  {
   "cell_type": "markdown",
   "metadata": {},
   "source": [
    "회귀분석 모델 구축"
   ]
  },
  {
   "cell_type": "code",
   "execution_count": 1093,
   "metadata": {},
   "outputs": [],
   "source": [
    "# 다른 구의 데이터를 활용하여 반려동물 등록 수와 소유자 수 사이의 관계 파악\n",
    "\n",
    "from sklearn.model_selection import cross_val_score, KFold\n",
    "from sklearn.linear_model import LinearRegression\n",
    "# 선형 회귀분석을 하는 경우에는 위 클래스를 사용\n",
    "\n",
    "import numpy as np\n",
    "import pandas as pd\n",
    "import statsmodels.api as sm\n",
    "\n",
    "concat_data = pd.concat([Dongjak_2021,Dongjak_2022,Dongjak_2023\n",
    "                        #,Dondaemun_2021,Dondaemun_2022,Dondaemun_2023\n",
    "                        ,Jongro_2021,Jongro_2022,Jongro_2023\n",
    "                        #,Gwangjin_2021,Gwangjin_2022,Gwangjin_2024\n",
    "                        ,Geumcheon_2021,Geumcheon_2023,Geumcheon_2024\n",
    "                        ])\n",
    "# 유의성 검정과 교차검정에서 높은 평균 정확도를 보인 동작구, 종로구, 금천구 데이터만을 사용\n",
    "\n",
    "# concat_data 컬럼 명 명시\n",
    "concat_data.columns = ['Dong', 'pet_owners', 'total']\n",
    "\n",
    "\n",
    "\n",
    "# 회귀 모델 적합\n",
    "x = concat_data[['total']]  # 독립변수 : 총 등록 수\n",
    "y = concat_data['pet_owners']   # 종속변수: 총 소유주 수\n",
    "\n",
    "model = LinearRegression()\n",
    "# model = LinearRegression(fit_intercept=True)\n",
    "# fit_intercept인수는 상수항이 있는지 없는 지를 결정하는 인수 (default=true)\n",
    "# 이 모델은 입력 데이터와 목표 변수 간의 선형 관계를 모델링\n",
    "# 새로운 데이터에 대한 예측 수행\n",
    "result = model.fit(x, y)\n",
    "# 가중치 값을 추정\n",
    "# 상수항 결합을 자동으로 해주므로 사용자가 직접 상수항 결합을 할 필요 없음\n",
    "# >> 모델은 최적의 가중치(계수)와 편향성(상수항)을 추정 \n",
    "# >> 가중치와 편향을 추정하는 과정에서 잔차 최소화\n",
    "# 생성된 모델을 입력 데이터(x)와 목표변수(y)에 대해 학습시키는 과정"
   ]
  },
  {
   "cell_type": "markdown",
   "metadata": {},
   "source": [
    "반려동물 소유자 수 예측 모델"
   ]
  },
  {
   "cell_type": "code",
   "execution_count": 1094,
   "metadata": {},
   "outputs": [
    {
     "data": {
      "text/plain": [
       "array([  490.52489344,  1166.31208109,    46.72435229,    70.00060445,\n",
       "         617.76840523,   970.01568789,   260.08999707,   121.2083592 ,\n",
       "        2290.55506032,   412.93738624,  1377.35010066,  2147.79404709,\n",
       "        2615.64671546,   590.61277772,    45.94847722,  1028.20631829,\n",
       "        1009.58531656,   682.1660362 ,   296.55612545,   608.45790437,\n",
       "          56.81072823,    80.86285546,  1112.00082606,   193.36474089,\n",
       "         383.45413351,   520.00814617, 19229.45963076])"
      ]
     },
     "execution_count": 1094,
     "metadata": {},
     "output_type": "execute_result"
    }
   ],
   "source": [
    "# 예측하고자 하는 데이터 파일 가져오기\n",
    "Mapo_data_raw = pd.read_csv(\"C:/Users/82108/Desktop/jw/프로젝트/반려동물등록현황전처리전/서울_반려동물_등록현황/서울특별시_마포구 동물등록 현황_20240216.csv\",  encoding='euc-kr') \n",
    "\n",
    "# 원본데이터 복사\n",
    "Mapo_data = Mapo_data_raw.copy()\n",
    "\n",
    "# 데이터 확인\n",
    "Mapo_data.head(3)\n",
    "\n",
    "# 필요한 열만 추출하기\n",
    "Mapo_data = Mapo_data[['법정동','합계']]\n",
    "\n",
    "# 컬럼 명 변경하기\n",
    "Mapo_data.rename(columns = {'법정동':'Dong',\n",
    "                            '합계':'total'},\n",
    "                 inplace=True)\n",
    "\n",
    "# 반려동물 등록 수 입력\n",
    "Mapo_total = Mapo_data['total']\n",
    "Mapo_total = pd.DataFrame(Mapo_total)\n",
    "\n",
    "# 소유자 수 예측\n",
    "Mapo_pet_owners = result.predict(Mapo_total)\n",
    "Mapo_pet_owners"
   ]
  },
  {
   "cell_type": "markdown",
   "metadata": {},
   "source": [
    "유의성 검정\n",
    "- 모델이 데이터를 잘 설명하는지 여부\n",
    "- 검정통계량을 사용하여 모델의 설명력을 통계적으로 판단\n",
    "- statsmodels의 OLS 명령으로 선형회귀"
   ]
  },
  {
   "cell_type": "code",
   "execution_count": 1104,
   "metadata": {},
   "outputs": [
    {
     "name": "stdout",
     "output_type": "stream",
     "text": [
      "F-statistic: 669448.0527768019\n",
      "p-value: 0.0\n"
     ]
    },
    {
     "data": {
      "text/plain": [
       "'\\n유의수준을 0.05라 할 때(95% 신뢰수준)\\n- 귀무가설: 회귀모형이 유의하지 않다.\\n- 대립가설: 회귀모형이 유의하다.\\n\\n회귀모형의 유의성 검정은 검정통계량 F값이 48933이고,\\n유의확률 p값이 0으로 유의수준0.05보다 작으므로\\n귀무가설을 기각하고, 대립가설을 채택한다.\\n즉, 회귀 모델은 통계적으로 유의함.\\n\\n'"
      ]
     },
     "execution_count": 1104,
     "metadata": {},
     "output_type": "execute_result"
    }
   ],
   "source": [
    "# 독립변수만 있는 데이터 프레임\n",
    "x = concat_data[['total']]  # 독립변수 : 총 등록 수\n",
    "\n",
    "# 종속변수만 있는 데이터 프레임\n",
    "y = concat_data['pet_owners']   # 종속변수: 총 소유주 수\n",
    "\n",
    "# 수동으로 상수항 추가\n",
    "x = sm.add_constant(x)\n",
    "# y = a*x + b\n",
    "# 이때 b는 상수항\n",
    "# sm.add_constant(x)을 사용하면 상수항이 있는 회귀 모델을 적합할 수 있음\n",
    "\n",
    "\n",
    "model = sm.OLS(y, x).fit()\n",
    "# 유의성 검정을 위해 최소 자승법을 사용하는 함수인 sm.OLS() 사용\n",
    "# ols 회귀 모델은 주어진 데이터에 가장 적합한 선형회귀식을 추정\n",
    "# 이때 sm.OLS()는 ols(최소자승법)을 사용하여 선형회귀에 적합\n",
    "# 이는 독립변수 x와 종속변수 y 간의 선형관계를 나타내는 모델 구축\n",
    "\n",
    "# F-검정\n",
    "f_statistic = model.fvalue  # 검정통계량\n",
    "# 검정통계량이 클수록 회귀모델이 유의\n",
    "p_value = model.f_pvalue\n",
    "\n",
    "# 결과 출력\n",
    "print(\"F-statistic:\", f_statistic)\n",
    "print(\"p-value:\", p_value)\n",
    "\n",
    "'''\n",
    "유의수준을 0.05라 할 때(95% 신뢰수준)\n",
    "- 귀무가설: 회귀모형이 유의하지 않다.\n",
    "- 대립가설: 회귀모형이 유의하다.\n",
    "\n",
    "회귀모형의 유의성 검정은 검정통계량 F값이 48933이고,\n",
    "유의확률 p값이 0으로 유의수준0.05보다 작으므로\n",
    "귀무가설을 기각하고, 대립가설을 채택한다.\n",
    "즉, 회귀 모델은 통계적으로 유의함.\n",
    "\n",
    "'''"
   ]
  },
  {
   "cell_type": "markdown",
   "metadata": {},
   "source": [
    "교차 검정\n",
    "- 주어진 데이터를 여러 번 반복해서 나누어 평가\n",
    "- 종속변수의 값을 알아내고, 그 종속 변수 값을 얼마나 잘 예측하는 가를 \n",
    "\n",
    "k-폴드 교차 검정\n",
    "- 데이터의 수가 적은 경우에 학습과 검증을 반복하는 k폴드 교차 검정"
   ]
  },
  {
   "cell_type": "code",
   "execution_count": 1119,
   "metadata": {},
   "outputs": [
    {
     "name": "stdout",
     "output_type": "stream",
     "text": [
      "1번 fold의 R-squared: 0.9997\n",
      "2번 fold의 R-squared: 0.9995\n",
      "3번 fold의 R-squared: 0.9997\n",
      "4번 fold의 R-squared: 0.9986\n",
      "5번 fold의 R-squared: 0.9995\n",
      "평균 R-squared: 0.9994\n"
     ]
    },
    {
     "data": {
      "text/plain": [
       "'\\n# 동작, 동대문,  종로\\n각 fold의 R-squared: [0.98752059 0.99855989 0.99737419 0.9946932  0.995287  ]\\n평균 R-squared: 0.9946869742565878\\n# 각 fold의 R-squared 값은 fold에서 회귀모델이 종속변수의 변동을 얼마나 잘 설명하는지를 나타내는 지표\\n# 0에서 1 사이의 값을 가짐. 1에 가까울수록 모델이 데이터를 잘 설몀\\n\\n## 동대문,동작,종로,광진구,금천구\\n각 fold의 R-squared: [0.98329415 0.99175426 0.98825034 0.99955781 0.99616499]\\n평균 R-squared: 0.9918043104102539\\n'"
      ]
     },
     "execution_count": 1119,
     "metadata": {},
     "output_type": "execute_result"
    }
   ],
   "source": [
    "# 데이터 준비\n",
    "X = concat_data[['total']]  # 독립 변수\n",
    "y = concat_data['pet_owners']  # 종속 변수\n",
    "\n",
    "# 모델 정의\n",
    "model = LinearRegression()\n",
    "\n",
    "# 교차 검증 수행\n",
    "kfold = KFold(n_splits=5, shuffle=True, random_state=42)    # KFold 클래스 교차 검증\n",
    "# 데이터를 5개의 Fold로 나누고 5-fold 교차 검증 수행,\n",
    "# shuffle=True 무작위로 섞어서 분할\n",
    "scores = cross_val_score(model, x, y, cv=kfold, scoring='r2')  # , R-squared로 평가\n",
    "# cross_val_score함수를 사용하여 모델을 평가\n",
    "# scoring='r2' : 평가 지표로 R-squared를 사용, 각 fold에서 모델의 R-squared계산\n",
    "# rsquared(수정된 결정계수) = 1 - rss(잔차제곱합) / tss(총제곱합)\n",
    "\n",
    "\n",
    "# fold의 성능 출력\n",
    "for i in range(len(scores)):\n",
    "    print(f'{i+1}번 fold의 R-squared: {scores[i]:.4f}')\n",
    "\n",
    "\n",
    "print(\"평균 R-squared:\", round(np.mean(scores),4))\n",
    "#>> 매우 높은 설명력을 가짐\n",
    "\n",
    "'''\n",
    "# 동작, 동대문,  종로\n",
    "각 fold의 R-squared: [0.98752059 0.99855989 0.99737419 0.9946932  0.995287  ]\n",
    "평균 R-squared: 0.9946869742565878\n",
    "# 각 fold의 R-squared 값은 fold에서 회귀모델이 종속변수의 변동을 얼마나 잘 설명하는지를 나타내는 지표\n",
    "# 0에서 1 사이의 값을 가짐. 1에 가까울수록 모델이 데이터를 잘 설몀\n",
    "\n",
    "## 동대문,동작,종로,광진구,금천구\n",
    "각 fold의 R-squared: [0.98329415 0.99175426 0.98825034 0.99955781 0.99616499]\n",
    "평균 R-squared: 0.9918043104102539\n",
    "'''\n",
    "\n",
    "# 각 fold의 R-squared 값은 해당 fold에서 모델의 설명력을 나타냄\n",
    "# R-squared 는 회귀 모델이 종속변수의 변동을 얼마나 잘 설명하는지를 나타내는 지표\n",
    "# 평균 R-squared은 해당 모델이 전체 데이터에서 얼마나 잘 설명하는 지 평균적인 정확도\n",
    "\n",
    "# 결정계수는 독립변수의 수가 증가함에 따라 증가하므로,\n",
    "# 독립변수를 추가할 때마다 결정계수가 증가한다는 단점을 가짐\n",
    "# 수정된 결정계수는 이를 보완한 것으로 불필요한 독립변수가 추가되는 경우, \n",
    "# 수정된 결정계수는 증가하지 않고 감소할 수 있다."
   ]
  },
  {
   "cell_type": "markdown",
   "metadata": {},
   "source": [
    "모델을 사용하여 서초구의 소유자 수를 측정한 후,\n",
    "실제 소유자 수와 비교"
   ]
  },
  {
   "cell_type": "code",
   "execution_count": 1098,
   "metadata": {},
   "outputs": [
    {
     "data": {
      "text/html": [
       "<div>\n",
       "<style scoped>\n",
       "    .dataframe tbody tr th:only-of-type {\n",
       "        vertical-align: middle;\n",
       "    }\n",
       "\n",
       "    .dataframe tbody tr th {\n",
       "        vertical-align: top;\n",
       "    }\n",
       "\n",
       "    .dataframe thead th {\n",
       "        text-align: right;\n",
       "    }\n",
       "</style>\n",
       "<table border=\"1\" class=\"dataframe\">\n",
       "  <thead>\n",
       "    <tr style=\"text-align: right;\">\n",
       "      <th></th>\n",
       "      <th>법정동</th>\n",
       "      <th>내장형무선인식(RFID)</th>\n",
       "      <th>외장형무선인식(RFID)</th>\n",
       "      <th>인식표</th>\n",
       "      <th>등록품종수</th>\n",
       "      <th>동물소유자수</th>\n",
       "      <th>데이터기준일</th>\n",
       "    </tr>\n",
       "  </thead>\n",
       "  <tbody>\n",
       "    <tr>\n",
       "      <th>0</th>\n",
       "      <td>내곡동</td>\n",
       "      <td>198</td>\n",
       "      <td>199</td>\n",
       "      <td>42</td>\n",
       "      <td>48</td>\n",
       "      <td>308</td>\n",
       "      <td>2023-06-30</td>\n",
       "    </tr>\n",
       "  </tbody>\n",
       "</table>\n",
       "</div>"
      ],
      "text/plain": [
       "   법정동  내장형무선인식(RFID)  외장형무선인식(RFID)  인식표  등록품종수  동물소유자수      데이터기준일\n",
       "0  내곡동            198            199   42     48     308  2023-06-30"
      ]
     },
     "execution_count": 1098,
     "metadata": {},
     "output_type": "execute_result"
    }
   ],
   "source": [
    "Seocho_2023_raw = pd.read_csv(\"C:/Users/82108/Desktop/jw/프로젝트/반려동물등록현황전처리전/서울_반려동물_등록현황/서울특별시_서초구_동물등록 현황_20230630.csv\",encoding='euc-kr')\n",
    "seocho = Seocho_2023_raw.copy()\n",
    "seocho.head(1)"
   ]
  },
  {
   "cell_type": "code",
   "execution_count": 1099,
   "metadata": {},
   "outputs": [],
   "source": [
    "# 반려동물총계 컬럼 만들기\n",
    "seocho['total'] = seocho['내장형무선인식(RFID)'] + seocho['외장형무선인식(RFID)'] + seocho['인식표']\n",
    "seocho_total = seocho['total']\n",
    "seocho_total = pd.DataFrame(seocho_total)\n",
    "\n",
    "# 반려동물 소유자 수 컬럼 추출\n",
    "seocho_owners = seocho['동물소유자수']"
   ]
  },
  {
   "cell_type": "code",
   "execution_count": 1100,
   "metadata": {},
   "outputs": [
    {
     "name": "stdout",
     "output_type": "stream",
     "text": [
      "내곡동\n",
      "실제 소유자 수 :308\n",
      "추정된 소유자 수:339.2292544101588\n",
      "예측의 정확도:89.86%\n",
      "반포동\n",
      "실제 소유자 수 :4034\n",
      "추정된 소유자 수:4035.4980970978904\n",
      "예측의 정확도:99.96%\n",
      "방배동\n",
      "실제 소유자 수 :5111\n",
      "추정된 소유자 수:4985.945060215537\n",
      "예측의 정확도:97.55%\n",
      "서초동\n",
      "실제 소유자 수 :4760\n",
      "추정된 소유자 수:4847.839297411503\n",
      "예측의 정확도:98.15%\n",
      "신원동\n",
      "실제 소유자 수 :244\n",
      "추정된 소유자 수:253.8829964975537\n",
      "예측의 정확도:95.95%\n",
      "양재동\n",
      "실제 소유자 수 :1717\n",
      "추정된 소유자 수:1754.425385615537\n",
      "예측의 정확도:97.82%\n",
      "염곡동\n",
      "실제 소유자 수 :54\n",
      "추정된 소유자 수:63.0177288020915\n",
      "예측의 정확도:83.30%\n",
      "우면동\n",
      "실제 소유자 수 :1106\n",
      "추정된 소유자 수:1131.39770285352\n",
      "예측의 정확도:97.70%\n",
      "원지동\n",
      "실제 소유자 수 :12\n",
      "추정된 소유자 수:11.034098982595701\n",
      "예측의 정확도:91.95%\n",
      "잠원동\n",
      "실제 소유자 수 :2518\n",
      "추정된 소유자 수:2455.040575570831\n",
      "예측의 정확도:97.50%\n",
      "------------------------------\n",
      "총 정확도: 95.0%\n"
     ]
    }
   ],
   "source": [
    "predicted_owners = result.predict(seocho_total)\n",
    "\n",
    "# 실제 소유자 수와 추정된 소유자 수 비교\n",
    "\n",
    "accuracy_list = []\n",
    "for i in range(len(predicted_owners)):\n",
    "        print(f\"{Seocho_2023_raw['법정동'][i]}\")\n",
    "        print(f'실제 소유자 수 :{seocho_owners[i]}')\n",
    "        print(f'추정된 소유자 수:{predicted_owners[i]}')\n",
    "        print(f'예측의 정확도:{100*(1- abs(seocho_owners[i] - predicted_owners[i])/seocho_owners[i]):.2f}%')\n",
    "        accuracy = 100*(1- abs(seocho_owners[i] - predicted_owners[i])/seocho_owners[i])\n",
    "        accuracy_list.append(accuracy)\n",
    "    \n",
    "    \n",
    "    \n",
    "print('-'*30)\n",
    "total_accuracy = sum(accuracy_list)/len(accuracy_list)\n",
    "\n",
    "print(f\"총 정확도: {total_accuracy:.1f}%\")\n",
    "\n",
    "    "
   ]
  },
  {
   "cell_type": "code",
   "execution_count": 1101,
   "metadata": {},
   "outputs": [
    {
     "data": {
      "image/png": "[encoded data removed]",
      "text/plain": [
       "<Figure size 640x480 with 1 Axes>"
      ]
     },
     "metadata": {},
     "output_type": "display_data"
    }
   ],
   "source": [
    "import matplotlib.pyplot as plt\n",
    "from matplotlib import font_manager, rc\n",
    "\n",
    "# 한글 폰트 경로 설정\n",
    "font_path = \"C:/Windows/Fonts/malgun.ttf\"  # 사용할 한글 폰트 경로 설정\n",
    "font_name = font_manager.FontProperties(fname=font_path).get_name()\n",
    "rc('font', family=font_name)\n",
    "\n",
    "plt.scatter(seocho_total, seocho_owners, color='blue', label='실제 데이터')\n",
    "plt.scatter(seocho_total, predicted_owners, color='red', label='예측값')\n",
    "plt.xlabel('독립변수(x)')\n",
    "plt.ylabel('종속변수(y)')\n",
    "plt.title('회귀모델 산점도')\n",
    "plt.legend()\n",
    "plt.show()"
   ]
  },
  {
   "cell_type": "code",
   "execution_count": null,
   "metadata": {},
   "outputs": [],
   "source": [
    "\n"
   ]
  }
 ],
 "metadata": {
  "kernelspec": {
   "display_name": "base",
   "language": "python",
   "name": "python3"
  },
  "language_info": {
   "codemirror_mode": {
    "name": "ipython",
    "version": 3
   },
   "file_extension": ".py",
   "mimetype": "text/x-python",
   "name": "python",
   "nbconvert_exporter": "python",
   "pygments_lexer": "ipython3",
   "version": "3.11.7"
  }
 },
 "nbformat": 4,
 "nbformat_minor": 2
}
