{
 "cells": [
  {
   "cell_type": "markdown",
   "metadata": {},
   "source": [
    "회귀분석을 이용한 동 별 반려동물 등록 수 예측 모델\n",
    "- 독립변수: 동 별 인구 수\n",
    "- 종속변수: 동 별 반려동물 등록 수 "
   ]
  },
  {
   "cell_type": "code",
   "execution_count": 42,
   "metadata": {},
   "outputs": [],
   "source": [
    "from sklearn.model_selection import cross_val_score, KFold\n",
    "from sklearn.linear_model import LinearRegression\n",
    "\n",
    "import pandas as pd\n",
    "import numpy as np"
   ]
  },
  {
   "cell_type": "code",
   "execution_count": 43,
   "metadata": {},
   "outputs": [],
   "source": [
    "concat_original_registrations = {'Dong': ['쌍문동','방학동','도봉통','창동','공릉동','상계동','월계동','중계동','하계동'],\n",
    "                                 'total': [3717,3481,2081,5397,4586,11091,4227,5849,2376],\n",
    "                                 'population': [75188,74624,46981,117556,79722,199483,29384,103155,48624]}\n",
    "\n",
    "concat_original_registrations = pd.DataFrame(concat_original_registrations)\n",
    "concat_original_registrations.columns = ['Dong','total','population']\n",
    "\n",
    "x = concat_original_registrations[['population']]\n",
    "y = concat_original_registrations['total']\n",
    "\n",
    "model = LinearRegression()\n",
    "result = model.fit(x, y)"
   ]
  },
  {
   "cell_type": "code",
   "execution_count": 44,
   "metadata": {},
   "outputs": [
    {
     "name": "stdout",
     "output_type": "stream",
     "text": [
      "F-statistic: 42.1474868870474\n",
      "p-value: 0.00033662313056861227\n"
     ]
    }
   ],
   "source": [
    "# 유의성 검정\n",
    "import statsmodels.api as sm\n",
    "\n",
    "x = sm.add_constant(x)\n",
    "model = sm.OLS(y, x).fit()\n",
    "f_statistic = model.fvalue\n",
    "p_value = model.f_pvalue\n",
    "\n",
    "print(\"F-statistic:\", f_statistic)\n",
    "print(\"p-value:\", p_value)"
   ]
  },
  {
   "cell_type": "code",
   "execution_count": 45,
   "metadata": {},
   "outputs": [],
   "source": [
    "# 예측하고자 하는 데이터 가져오기"
   ]
  },
  {
   "cell_type": "code",
   "execution_count": 46,
   "metadata": {},
   "outputs": [
    {
     "name": "stdout",
     "output_type": "stream",
     "text": [
      "             0\n",
      "0  1356.745845\n",
      "1  1301.446259\n",
      "2  1507.558443\n",
      "3  1535.232726\n",
      "4  2215.089452\n",
      "5  3274.696121\n",
      "6  3043.113801\n",
      "7  2791.106390\n",
      "8  2913.363046\n",
      "\n",
      "서대문 구의 총 동물 등록 수:  0    19938.352082\n",
      "dtype: float64\n"
     ]
    },
    {
     "name": "stderr",
     "output_type": "stream",
     "text": [
      "c:\\ProgramData\\anaconda3\\Lib\\site-packages\\sklearn\\base.py:439: UserWarning: X does not have valid feature names, but LinearRegression was fitted with feature names\n",
      "  warnings.warn(\n"
     ]
    }
   ],
   "source": [
    "# 서대문구 동 별 행 \n",
    "Seodaemun_population = {'Dong': ['천연동', '북아현동', '충현동', '신촌동', '연희동', '홍제동', '홍은동', '남가좌동', '북가좌동'],\n",
    "                        'population': [16678, 15549, 19757, 20322, 34202, 55835, 51107, 45962, 48458]}\n",
    "Seodaemun_population = pd.DataFrame(Seodaemun_population['population'])\n",
    "\n",
    "total_registration_seodaemun = 16944 \n",
    "\n",
    "Seodaemun_pet_registration = result.predict(Seodaemun_population)\n",
    "Seodaemun_pet_registration = pd.DataFrame(Seodaemun_pet_registration)\n",
    "\n",
    "print(Seodaemun_pet_registration)\n",
    "print()\n",
    "print('서대문 구의 총 동물 등록 수: ',Seodaemun_pet_registration.sum())"
   ]
  },
  {
   "cell_type": "markdown",
   "metadata": {},
   "source": [
    "모델을 사용하여, 동 별 반려동물 등록자 수를 측정한 후, 실제 소유자 수와 비교"
   ]
  },
  {
   "cell_type": "code",
   "execution_count": 55,
   "metadata": {},
   "outputs": [
    {
     "name": "stdout",
     "output_type": "stream",
     "text": [
      "쌍문동\n",
      "실제 동 별 동물 등록 현황 :3717\n",
      "추정된 소유자 수:4222.62603590066\n",
      "예측의 정확도:86.40%\n",
      "방학동\n",
      "실제 동 별 동물 등록 현황 :3481\n",
      "추정된 소유자 수:4195.000733765815\n",
      "예측의 정확도:79.49%\n",
      "도봉통\n",
      "실제 동 별 동물 등록 현황 :2081\n",
      "추정된 소유자 수:2841.018061933298\n",
      "예측의 정확도:63.48%\n",
      "창동\n",
      "실제 동 별 동물 등록 현황 :5397\n",
      "추정된 소유자 수:6297.854406200558\n",
      "예측의 정확도:83.31%\n",
      "공릉동\n",
      "실제 동 별 동물 등록 현황 :4586\n",
      "추정된 소유자 수:4444.706035686813\n",
      "예측의 정확도:96.92%\n",
      "상계동\n",
      "실제 동 별 동물 등록 현황 :11091\n",
      "추정된 소유자 수:10310.723427479817\n",
      "예측의 정확도:92.96%\n",
      "월계동\n",
      "실제 동 별 동물 등록 현황 :4227\n",
      "추정된 소유자 수:1979.098839119682\n",
      "예측의 정확도:46.82%\n",
      "중계동\n",
      "실제 동 별 동물 등록 현황 :5849\n",
      "추정된 소유자 수:5592.478562151066\n",
      "예측의 정확도:95.61%\n",
      "하계동\n",
      "실제 동 별 동물 등록 현황 :2376\n",
      "추정된 소유자 수:2921.49389776229\n",
      "예측의 정확도:77.04%\n",
      "------------------------------\n",
      "총 정확도: 80.2%\n"
     ]
    }
   ],
   "source": [
    "# 동 별 동물 등록 현황 실 데이터\n",
    "original = {'Dong': ['쌍문동','방학동','도봉통','창동','공릉동','상계동','월계동','중계동','하계동'],\n",
    "            'registration': [3717,3481,2081,5397,4586,11091,4227,5849,2376]}\n",
    "\n",
    "original = pd.DataFrame(original)\n",
    "\n",
    "original_registrations = original['registration']\n",
    "\n",
    "\n",
    "# 여러 구 인구수 데이터(예측에 이용)\n",
    "concat_population = {'Dong': ['쌍문동','방학동','도봉통','창동','공릉동','상계동','월계동','중계동','하계동'],\n",
    "                     'population': [75188,74624,46981,117556,79722,199483,29384,103155,48624]}\n",
    "\n",
    "concat_population = pd.DataFrame(concat_population)\n",
    "\n",
    "# 총 동물 등록 수(예측에 이용)\n",
    "total_registration = original_registrations.sum()\n",
    "\n",
    "# 모델을 이용하여 동 별 등록 동물 수 예측\n",
    "\n",
    "x = concat_population[['population']]\n",
    "y = original['registration']\n",
    "\n",
    "model = LinearRegression()\n",
    "result = model.fit(x, y)\n",
    "predict_registration = result.predict(x)\n",
    "#predict_registration = pd.DataFrame(predict_registration)\n",
    "\n",
    "\n",
    "accuracy_list = []\n",
    "for i in range(len(predict_registration)):\n",
    "        print(f\"{original['Dong'][i]}\")\n",
    "        print(f'실제 동 별 동물 등록 현황 :{original_registrations[i]}')\n",
    "        print(f'추정된 소유자 수:{predict_registration[i]}')\n",
    "        print(f'예측의 정확도:{100*(1- abs(original_registrations[i] - predict_registration[i])/original_registrations[i]):.2f}%')\n",
    "        accuracy = 100*(1- abs(original_registrations[i] - predict_registration[i])/original_registrations[i])\n",
    "        accuracy_list.append(accuracy)\n",
    "    \n",
    "    \n",
    "    \n",
    "print('-'*30)\n",
    "total_accuracy = sum(accuracy_list)/len(accuracy_list)\n",
    "\n",
    "print(f\"총 정확도: {total_accuracy:.1f}%\")\n"
   ]
  },
  {
   "cell_type": "markdown",
   "metadata": {},
   "source": [
    "비율을 직접 구하여 동물 등록 수 예측"
   ]
  },
  {
   "cell_type": "code",
   "execution_count": null,
   "metadata": {},
   "outputs": [
    {
     "name": "stdout",
     "output_type": "stream",
     "text": [
      "   Dong  population     ratio   total\n",
      "0   천연동       16678  0.054172   918.0\n",
      "1  북아현동       15549  0.050505   856.0\n",
      "2   충현동       19757  0.064173  1087.0\n",
      "3   신촌동       20322  0.066008  1118.0\n",
      "4   연희동       34202  0.111092  1882.0\n",
      "5   홍제동       55835  0.181359  3073.0\n",
      "6   홍은동       51107  0.166002  2813.0\n",
      "7  남가좌동       45962  0.149290  2530.0\n",
      "8  북가좌동       48458  0.157398  2667.0\n",
      "16944.0\n"
     ]
    }
   ],
   "source": [
    "# 서대문구 동 별 행 \n",
    "Seodaemun_population = {'Dong': ['천연동', '북아현동', '충현동', '신촌동', '연희동', '홍제동', '홍은동', '남가좌동', '북가좌동'],\n",
    "                        'population': [16678, 15549, 19757, 20322, 34202, 55835, 51107, 45962, 48458]}\n",
    "Seodaemun_population = pd.DataFrame(Seodaemun_population)\n",
    "\n",
    "# 동 별 인구 수 비율 \n",
    "Seodaemun_population['ratio'] = Seodaemun_population['population'] / Seodaemun_population['population'].sum()\n",
    "\n",
    "# 구의 총 반려동물 등록 수 와 각 동별 인구 수 비율을 곱하여 \n",
    "# 동별 동물 등록 수를 예측\n",
    "\n",
    "total_registration = 16944\n",
    "Seodaemun_population['total'] = round(Seodaemun_population['ratio'] * total_registration)\n",
    "# 16944 서대문구 전체 등록 수 \n",
    "print(Seodaemun_population)\n",
    "print(Seodaemun_population['total'].sum())"
   ]
  },
  {
   "cell_type": "markdown",
   "metadata": {},
   "source": [
    "동별 인구 수 비율을 이용하여 동 별 동물 등록 수를 예측하고, 정확도 검사 "
   ]
  },
  {
   "cell_type": "code",
   "execution_count": null,
   "metadata": {},
   "outputs": [],
   "source": [
    "# 인구 수를 이용한 정확도 예측"
   ]
  },
  {
   "cell_type": "code",
   "execution_count": null,
   "metadata": {},
   "outputs": [
    {
     "name": "stdout",
     "output_type": "stream",
     "text": [
      "쌍문동\n",
      "실제 동별 동물 등록 현황: 3717\n",
      "예측 동별 동물 등록 현황: 4154.0\n",
      "예측의 정확도:88.24%\n",
      "방학동\n",
      "실제 동별 동물 등록 현황: 3481\n",
      "예측 동별 동물 등록 현황: 4123.0\n",
      "예측의 정확도:81.56%\n",
      "도봉통\n",
      "실제 동별 동물 등록 현황: 2081\n",
      "예측 동별 동물 등록 현황: 2596.0\n",
      "예측의 정확도:75.25%\n",
      "창동\n",
      "실제 동별 동물 등록 현황: 5397\n",
      "예측 동별 동물 등록 현황: 6495.0\n",
      "예측의 정확도:79.66%\n",
      "공릉동\n",
      "실제 동별 동물 등록 현황: 4586\n",
      "예측 동별 동물 등록 현황: 4405.0\n",
      "예측의 정확도:96.05%\n",
      "상계동\n",
      "실제 동별 동물 등록 현황: 11091\n",
      "예측 동별 동물 등록 현황: 11022.0\n",
      "예측의 정확도:99.38%\n",
      "월계동\n",
      "실제 동별 동물 등록 현황: 4227\n",
      "예측 동별 동물 등록 현황: 1624.0\n",
      "예측의 정확도:38.42%\n",
      "중계동\n",
      "실제 동별 동물 등록 현황: 5849\n",
      "예측 동별 동물 등록 현황: 5700.0\n",
      "예측의 정확도:97.45%\n",
      "하계동\n",
      "실제 동별 동물 등록 현황: 2376\n",
      "예측 동별 동물 등록 현황: 2687.0\n",
      "예측의 정확도:86.91%\n",
      "총 정확도: 82.55%\n"
     ]
    }
   ],
   "source": [
    "# 동 별 동물 등록 현황 실 데이터\n",
    "original_registrations = {'Dong': ['쌍문동','방학동','도봉통','창동','공릉동','상계동','월계동','중계동','하계동'],\n",
    "                          'registration': [3717,3481,2081,5397,4586,11091,4227,5849,2376]}\n",
    "\n",
    "original_registrations = pd.DataFrame(original_registrations)\n",
    "\n",
    "\n",
    "# 여러 구 인구수 데이터\n",
    "concat_population = {'Dong': ['쌍문동','방학동','도봉통','창동','공릉동','상계동','월계동','중계동','하계동'],\n",
    "                     'population': [75188,74624,46981,117556,79722,199483,29384,103155,48624]}\n",
    "\n",
    "\n",
    "concat_population = pd.DataFrame(concat_population)\n",
    "\n",
    "# 동별 인구 수 비율\n",
    "total_population = concat_population['population'].sum()\n",
    "concat_population['ratio'] = concat_population['population']/total_population\n",
    "\n",
    "# 동별 비율에 따른 동물 등록 현황 예측\n",
    "total_registration = original_registrations['registration'].sum()\n",
    "concat_population['registration'] = round(concat_population['ratio'] * total_registration,0)\n",
    "\n",
    "\n",
    "\n",
    "accuracy_list = []\n",
    "for i in range(len(original_registrations['Dong'])):\n",
    "    print(f'{original_registrations[\"Dong\"][i]}')\n",
    "    print(f'실제 동별 동물 등록 현황: {original_registrations[\"registration\"][i]}')\n",
    "    print(f'예측 동별 동물 등록 현황: {concat_population[\"registration\"][i]}')\n",
    "    print(f'예측의 정확도:{100*(1- abs(concat_population[\"registration\"][i] - original_registrations[\"registration\"][i])/original_registrations[\"registration\"][i]):.2f}%')\n",
    "    accuracy = 100*(1- abs(concat_population[\"registration\"][i] - original_registrations[\"registration\"][i])/original_registrations[\"registration\"][i])\n",
    "    accuracy_list.append(accuracy)\n",
    "    \n",
    "    \n",
    "total_accuracy = sum(accuracy_list)/len(accuracy_list)\n",
    "\n",
    "print(f\"총 정확도: {total_accuracy:.2f}%\")"
   ]
  },
  {
   "cell_type": "markdown",
   "metadata": {},
   "source": [
    "실제 다른 데이터에도 "
   ]
  },
  {
   "cell_type": "code",
   "execution_count": null,
   "metadata": {},
   "outputs": [],
   "source": []
  }
 ],
 "metadata": {
  "kernelspec": {
   "display_name": "base",
   "language": "python",
   "name": "python3"
  },
  "language_info": {
   "codemirror_mode": {
    "name": "ipython",
    "version": 3
   },
   "file_extension": ".py",
   "mimetype": "text/x-python",
   "name": "python",
   "nbconvert_exporter": "python",
   "pygments_lexer": "ipython3",
   "version": "3.11.7"
  }
 },
 "nbformat": 4,
 "nbformat_minor": 2
}
